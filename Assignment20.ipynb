{
 "cells": [
  {
   "cell_type": "markdown",
   "id": "7c080785",
   "metadata": {},
   "source": [
    "#### Assignment20  submitted by ......Tanuja S.Dhope\n"
   ]
  },
  {
   "cell_type": "markdown",
   "id": "4ddba8a8",
   "metadata": {},
   "source": [
    "Question1\n",
    "Create a function that takes a list of strings and integers, and filters out the list so that it returns a list of integers only.\n",
    "Examples\n",
    "filter_list([1, 2, 3, \"a\", \"b\", 4]) ➞ [1, 2, 3, 4]\n",
    "\n",
    "filter_list([\"A\", 0, \"Edabit\", 1729, \"Python\", \"1729\"]) ➞ [0, 1729]\n",
    "\n",
    "filter_list([\"Nothing\", \"here\"]) ➞ []\n"
   ]
  },
  {
   "cell_type": "code",
   "execution_count": 7,
   "id": "a2f4a94b",
   "metadata": {},
   "outputs": [
    {
     "name": "stdout",
     "output_type": "stream",
     "text": [
      "[1, 2, 3, 4]\n",
      "[0, 1729]\n",
      "[]\n"
     ]
    }
   ],
   "source": [
    "def filter_list(list1):\n",
    "    new_list=[]\n",
    "    for i in range(len(list1)):\n",
    "            if type(list1[i])==int:\n",
    "                new_list.append(list1[i])\n",
    "                \n",
    "    return new_list    \n",
    "    \n",
    "    \n",
    "    \n",
    "    \n",
    "print(filter_list([1, 2, 3, \"a\", \"b\", 4]))\n",
    "\n",
    "print(filter_list([\"A\", 0, \"Edabit\", 1729, \"Python\", \"1729\"]) )\n",
    "\n",
    "print(filter_list([\"Nothing\", \"here\"])) \n",
    "    \n",
    "    "
   ]
  },
  {
   "cell_type": "markdown",
   "id": "ad2d9f22",
   "metadata": {},
   "source": [
    "Question2\n",
    "Given a list of numbers, create a function which returns the list but with each element's index in the list added to itself. This means you add 0 to the number at index 0, add 1 to the number at index 1, etc...\n",
    "Examples\n",
    "add_indexes([0, 0, 0, 0, 0]) ➞ [0, 1, 2, 3, 4]\n",
    "\n",
    "add_indexes([1, 2, 3, 4, 5]) ➞ [1, 3, 5, 7, 9]\n",
    "\n",
    "add_indexes([5, 4, 3, 2, 1]) ➞ [5, 5, 5, 5, 5]\n",
    "\n"
   ]
  },
  {
   "cell_type": "code",
   "execution_count": 10,
   "id": "037ea4b9",
   "metadata": {},
   "outputs": [
    {
     "name": "stdout",
     "output_type": "stream",
     "text": [
      "[0, 1, 2, 3, 4]\n",
      "[0, 1, 2, 3, 4]\n",
      "[0, 1, 2, 3, 4, 5]\n"
     ]
    }
   ],
   "source": [
    "def add_indexes(list1):\n",
    "    new_list=[]\n",
    "    for i in range(len(list1)):\n",
    "        new_list.append(i)\n",
    "                \n",
    "    return new_list \n",
    "\n",
    "\n",
    "print(add_indexes([0, 6, 9, 10, 11]))\n",
    "print(add_indexes([1, 2, 3, 4, 5]))\n",
    "print(add_indexes(['tanu','man', 4, 3, 2, 1]))"
   ]
  },
  {
   "cell_type": "markdown",
   "id": "62bcc654",
   "metadata": {},
   "source": [
    "Question3\n",
    "Create a function that takes the height and radius of a cone as arguments and returns the volume of the cone rounded to the nearest hundredth. See the resources tab for the formula\n",
    "cone_volume(3, 2) ➞ 12.57"
   ]
  },
  {
   "cell_type": "code",
   "execution_count": 13,
   "id": "da72494a",
   "metadata": {},
   "outputs": [
    {
     "name": "stdout",
     "output_type": "stream",
     "text": [
      "Enter the height  in cm of a cone:5.6\n",
      "Enter the radius in cm of a cone:3.4\n",
      "The volume of cone in cm3 is : <function cone_volume at 0x0000016BAFC9F5E0>\n"
     ]
    },
    {
     "data": {
      "text/plain": [
       "6.283185307179586"
      ]
     },
     "execution_count": 13,
     "metadata": {},
     "output_type": "execute_result"
    }
   ],
   "source": [
    "import math\n",
    "def cone_volume(r, h):\n",
    "    return ((1/3)*math.pi*r*h)\n",
    "\n",
    "h=float(input(\"Enter the height  in cm of a cone:\"))\n",
    "r=float(input(\"Enter the radius in cm of a cone:\"))\n",
    "print(\"The volume of cone in cm3 is :\",cone_volume)\n",
    "\n",
    "\n",
    "\n",
    "\n",
    "cone_volume(3, 2)"
   ]
  },
  {
   "cell_type": "markdown",
   "id": "0afd43d3",
   "metadata": {},
   "source": [
    "Question4\n",
    "This Triangular Number Sequence is generated from a pattern of dots that form a triangle. The first 5 numbers of the sequence, or dots, are: \n",
    "1, 3, 6, 10, 15\n",
    "This means that the first triangle has just one dot, the second one has three dots, the third one has 6 dots and so on.\n",
    "Write a function that gives the number of dots with its corresponding triangle number of the sequence.\n",
    "Examples\n",
    "triangle(1) ➞ 1\n",
    "\n",
    "triangle(6) ➞ 21\n",
    "\n",
    "triangle(215) ➞ 23220\n",
    "\n"
   ]
  },
  {
   "cell_type": "code",
   "execution_count": 27,
   "id": "07280f43",
   "metadata": {},
   "outputs": [
    {
     "name": "stdout",
     "output_type": "stream",
     "text": [
      "Enter the Traiangle Number215\n",
      "The Triangle number 215  having corresponding dots 23220.0. \n"
     ]
    }
   ],
   "source": [
    "\n",
    "##N*(N+1)/2\n",
    "def triangle(N):\n",
    "    mul=0.5\n",
    "    return N*(N+1)*0.5\n",
    "    \n",
    "N=int(input(\"Enter the Traiangle Number\"))\n",
    "print(\"The Triangle number {}  having corresponding dots {}. \".format(N,triangle(N)))"
   ]
  },
  {
   "cell_type": "markdown",
   "id": "4335daa8",
   "metadata": {},
   "source": [
    "Question5\n",
    "Create a function that takes a list of numbers between 1 and 10 (excluding one number) and returns the missing number.\n",
    "Examples\n",
    "missing_num([1, 2, 3, 4, 6, 7, 8, 9, 10]) ➞ 5\n",
    "\n",
    "missing_num([7, 2, 3, 6, 5, 9, 1, 4, 8]) ➞ 10\n",
    "\n",
    "missing_num([10, 5, 1, 2, 4, 6, 8, 3, 9]) ➞ 7\n"
   ]
  },
  {
   "cell_type": "code",
   "execution_count": 35,
   "id": "2f9e6827",
   "metadata": {},
   "outputs": [
    {
     "name": "stdout",
     "output_type": "stream",
     "text": [
      "The missing number in a given list is  5\n",
      "The missing number in a given list is  10\n",
      "The missing number in a given list is  7\n"
     ]
    }
   ],
   "source": [
    "def missing_num(list):\n",
    "    Total10sum= sum([i for i in range(11)])\n",
    "    actual_sum=sum(list)\n",
    "    return Total10sum-actual_sum\n",
    "    \n",
    "list1=[1, 2, 3, 4, 6, 7, 8, 9, 10]\n",
    "print(\"The missing number in a given list is \",missing_num(list1))\n",
    "list1=[7, 2, 3, 6, 5, 9, 1, 4, 8]\n",
    "print(\"The missing number in a given list is \",missing_num(list1))\n",
    "list1=[10, 5, 1, 2, 4, 6, 8, 3, 9]\n",
    "print(\"The missing number in a given list is \",missing_num(list1))"
   ]
  },
  {
   "cell_type": "code",
   "execution_count": null,
   "id": "d09724e7",
   "metadata": {},
   "outputs": [],
   "source": []
  }
 ],
 "metadata": {
  "kernelspec": {
   "display_name": "Python 3",
   "language": "python",
   "name": "python3"
  },
  "language_info": {
   "codemirror_mode": {
    "name": "ipython",
    "version": 3
   },
   "file_extension": ".py",
   "mimetype": "text/x-python",
   "name": "python",
   "nbconvert_exporter": "python",
   "pygments_lexer": "ipython3",
   "version": "3.8.8"
  }
 },
 "nbformat": 4,
 "nbformat_minor": 5
}
