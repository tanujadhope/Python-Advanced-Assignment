{
 "cells": [
  {
   "cell_type": "markdown",
   "id": "5a7dd150",
   "metadata": {},
   "source": [
    "### Assignment 10 Submitted by __Tanuja Satish Dhope"
   ]
  },
  {
   "cell_type": "markdown",
   "id": "16417281",
   "metadata": {},
   "source": [
    "1.Write a Python program to find sum of elements in list?\n",
    "2.Write a Python program to  Multiply all numbers in the list?\n",
    "3.Write a Python program to find smallest number in a list?\n",
    "4.Write a Python program to find largest number in a list?\n",
    "5.Write a Python program to find second largest number in a list?\n",
    "6.Write a Python program to find N largest elements from a list?\n",
    "7.Write a Python program to print even numbers in a list?\n",
    "8.Write a Python program to print odd numbers in a List?\n",
    "9.Write a Python program to Remove empty List from List?\n",
    "10.Write a Python program to Cloning or Copying a list?\n",
    "11.Write a Python program to Count occurrences of an element in a list?\n"
   ]
  },
  {
   "cell_type": "code",
   "execution_count": 1,
   "id": "a9c7220a",
   "metadata": {},
   "outputs": [
    {
     "name": "stdout",
     "output_type": "stream",
     "text": [
      "Sum is:  290\n"
     ]
    }
   ],
   "source": [
    "#1.Write a Python program to find sum of elements in list?\n",
    "list=[10,35,76,23,67,79]\n",
    "result=sum(list)\n",
    "print(\"Sum is: \",result)"
   ]
  },
  {
   "cell_type": "code",
   "execution_count": 3,
   "id": "b1a0a84b",
   "metadata": {},
   "outputs": [
    {
     "name": "stdout",
     "output_type": "stream",
     "text": [
      "Mutiplication is:  3238257400\n"
     ]
    }
   ],
   "source": [
    "#2.Write a Python program to  Multiply all numbers in the list?\n",
    "\n",
    "list=[10,35,76,23,67,79]\n",
    "result=1\n",
    "for j in range(len(list)):\n",
    "    result*=list[j]\n",
    "print(\"Mutiplication is: \",result)"
   ]
  },
  {
   "cell_type": "code",
   "execution_count": 7,
   "id": "327e4bcf",
   "metadata": {},
   "outputs": [
    {
     "name": "stdout",
     "output_type": "stream",
     "text": [
      "The smallest number in list is 10\n"
     ]
    }
   ],
   "source": [
    "#3.Write a Python program to find smallest number in a list?\n",
    "def chk_smallest(list):\n",
    "    l=list[0]\n",
    "    for j in list:\n",
    "        if j<l:\n",
    "            l=j\n",
    "        \n",
    "    return l\n",
    "\n",
    "##\n",
    "List=[10,35,76,23,67,79]\n",
    "print(\"The smallest number in list is\",chk_smallest(List))"
   ]
  },
  {
   "cell_type": "code",
   "execution_count": 8,
   "id": "dc521e32",
   "metadata": {},
   "outputs": [
    {
     "name": "stdout",
     "output_type": "stream",
     "text": [
      "The smallest number in list is 79\n"
     ]
    }
   ],
   "source": [
    "#4.Write a Python program to find largest number in a list?\n",
    "def chk_largest(list):\n",
    "    l=list[0]\n",
    "    for j in list:\n",
    "        if j>l:\n",
    "            l=j\n",
    "        \n",
    "    return l\n",
    "\n",
    "##\n",
    "List=[10,35,76,23,67,79]\n",
    "print(\"The smallest number in list is\",chk_largest(List))"
   ]
  },
  {
   "cell_type": "code",
   "execution_count": 21,
   "id": "275ac1f3",
   "metadata": {},
   "outputs": [
    {
     "name": "stdout",
     "output_type": "stream",
     "text": [
      "Second highest number is :  76\n",
      "The final list: [79, 76]\n"
     ]
    }
   ],
   "source": [
    "###5.Write a Python program to find second largest number in a list?\n",
    "\n",
    "\n",
    "list1=[10,35,76,23,67,79]\n",
    "\n",
    "mx = max(list1[0], list1[1]) ### find max among two\n",
    "max2 = min(list1[0], list1[1]) ## find min among two for second max\n",
    "length = len(list1)\n",
    "for i in range(2,length):\n",
    "    if list1[i] > mx:\n",
    "        max2 = mx\n",
    "        mx = list1[i]\n",
    "    elif list1[i] > max2 and mx != list1[i]:\n",
    "        max2 = list1[i]\n",
    "    elif mx == max2 and max2 != list1[i]:\n",
    "        max2 = list1[i]\n",
    "\n",
    "print(\"Second highest number is : \",str(max2))\n",
    "\n",
    "### OR second Approach\n",
    "def max_elements_N(list1, N):\n",
    "    temp= []\n",
    "\n",
    "    for i in range(0, N):\n",
    "        max1 = 0\n",
    "\n",
    "        for j in range(len(list1)):\t\n",
    "            if list1[j] > max1:\n",
    "                max1 = list1[j];\n",
    "\n",
    "        list1.remove(max1);\n",
    "        temp.append(max1)\n",
    "\n",
    "    print(\"The final list:\",temp)\n",
    "\n",
    "# Driver code\n",
    "\n",
    "list1=[10,35,76,23,67,79]\n",
    "N =2\n",
    "\n",
    "# Calling the function\n",
    "max_elements_N(list1, N)\n"
   ]
  },
  {
   "cell_type": "code",
   "execution_count": 22,
   "id": "202f6b8f",
   "metadata": {},
   "outputs": [
    {
     "name": "stdout",
     "output_type": "stream",
     "text": [
      "The final list: [79, 76, 67]\n"
     ]
    }
   ],
   "source": [
    "#6.Write a Python program to find N largest elements from a list?\n",
    "\n",
    "# Python program to find N largest\n",
    "# element from given list of integers\n",
    "\n",
    "# Function returns N largest elements\n",
    "def max_elements_N(list1, N):\n",
    "    temp= []\n",
    "\n",
    "    for i in range(0, N):\n",
    "        max1 = 0\n",
    "\n",
    "        for j in range(len(list1)):\t\n",
    "            if list1[j] > max1:\n",
    "                max1 = list1[j];\n",
    "\n",
    "        list1.remove(max1);\n",
    "        temp.append(max1)\n",
    "\n",
    "    print(\"The final list:\",temp)\n",
    "\n",
    "# Driver code\n",
    "\n",
    "list1=[10,35,76,23,67,79]\n",
    "N =3\n",
    "\n",
    "# Calling the function\n",
    "max_elements_N(list1, N)\n",
    "\n"
   ]
  },
  {
   "cell_type": "code",
   "execution_count": 26,
   "id": "29c1326f",
   "metadata": {},
   "outputs": [
    {
     "name": "stdout",
     "output_type": "stream",
     "text": [
      "The even number from given List: [10, 76]\n"
     ]
    }
   ],
   "source": [
    "#7.Write a Python program to print even numbers in a list?\n",
    "def is_even_num(l):\n",
    "    even_num = []\n",
    "    for n in l:\n",
    "        if n % 2 == 0:\n",
    "            even_num.append(n)\n",
    "    return even_num\n",
    "List=[10,35,76,23,67,79]\n",
    "print( \"The even number from given List:\", is_even_num(List))"
   ]
  },
  {
   "cell_type": "code",
   "execution_count": 28,
   "id": "4446df43",
   "metadata": {},
   "outputs": [
    {
     "name": "stdout",
     "output_type": "stream",
     "text": [
      "The even number from given List: [35, 23, 67, 79]\n"
     ]
    }
   ],
   "source": [
    "#8.Write a Python program to print odd numbers in a List?\n",
    "def is_odd_num(l):\n",
    "    odd_num = []\n",
    "    for n in l:\n",
    "        if n % 2 != 0:\n",
    "            odd_num.append(n)\n",
    "    return odd_num\n",
    "List=[10,35,76,23,67,79]\n",
    "print( \"The even number from given List:\", is_odd_num(List))"
   ]
  },
  {
   "cell_type": "code",
   "execution_count": 29,
   "id": "b2518b91",
   "metadata": {},
   "outputs": [
    {
     "name": "stdout",
     "output_type": "stream",
     "text": [
      "The original list is : [35, 69, [], 39, 41, [], [], 1001]\n",
      "List after empty list removal : [35, 69, 39, 41, 1001]\n"
     ]
    }
   ],
   "source": [
    "##9.Write a Python program to Remove empty List from List?\n",
    "\n",
    "\n",
    "# Initializing list\n",
    "list = [35, 69, [], 39, 41,[], [],1001]\n",
    "\n",
    "# printing original list\n",
    "print(\"The original list is : \" + str(list))\n",
    "\n",
    "# Remove empty List from List\n",
    "# using list comprehension\n",
    "res = [i for i in list if i != []]\n",
    "\n",
    "# printing result\n",
    "print(\"List after empty list removal : \" + str(res))\n"
   ]
  },
  {
   "cell_type": "code",
   "execution_count": 30,
   "id": "ab1d7117",
   "metadata": {},
   "outputs": [
    {
     "name": "stdout",
     "output_type": "stream",
     "text": [
      "The Cloned list is: [10, 35, 76, 23, 67, 79]\n"
     ]
    }
   ],
   "source": [
    "##10.Write a Python program to Cloning or Copying a list?\n",
    "def clone_list(list2):\n",
    "    copy_list=list2[:]\n",
    "    return copy_list\n",
    "\n",
    "list1=[10,35,76,23,67,79]\n",
    "print(\"The Cloned list is:\",clone_list(list1))"
   ]
  },
  {
   "cell_type": "code",
   "execution_count": 32,
   "id": "c8842528",
   "metadata": {},
   "outputs": [
    {
     "name": "stdout",
     "output_type": "stream",
     "text": [
      "10 has occurred 2 times\n"
     ]
    }
   ],
   "source": [
    "##11.Write a Python program to Count occurrences of an element in a list?\n",
    "# Python code to count the number of occurrences\n",
    "def count_y(list1, x):\n",
    "    count = 0\n",
    "    for ele in list1:\n",
    "        if (ele == y):\n",
    "            count = count + 1\n",
    "    return count\n",
    "\n",
    "\n",
    "# Driver Code\n",
    "list1=[10, 35, 76, 23, 67, 79,10]\n",
    "y = 10\n",
    "print('{} has occurred {} times'.format(y,count_y(list1, y)))\n"
   ]
  },
  {
   "cell_type": "code",
   "execution_count": null,
   "id": "ab50ad0d",
   "metadata": {},
   "outputs": [],
   "source": []
  }
 ],
 "metadata": {
  "kernelspec": {
   "display_name": "Python 3",
   "language": "python",
   "name": "python3"
  },
  "language_info": {
   "codemirror_mode": {
    "name": "ipython",
    "version": 3
   },
   "file_extension": ".py",
   "mimetype": "text/x-python",
   "name": "python",
   "nbconvert_exporter": "python",
   "pygments_lexer": "ipython3",
   "version": "3.8.8"
  }
 },
 "nbformat": 4,
 "nbformat_minor": 5
}
