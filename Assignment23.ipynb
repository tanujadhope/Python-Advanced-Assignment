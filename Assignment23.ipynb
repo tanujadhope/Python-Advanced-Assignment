{
 "cells": [
  {
   "cell_type": "markdown",
   "id": "4cedb70c",
   "metadata": {},
   "source": [
    "#### Assignment23 Submitted by....Tanuja S.Dhope"
   ]
  },
  {
   "cell_type": "markdown",
   "id": "71fd580a",
   "metadata": {},
   "source": [
    "Question 1\n",
    "Create a function that takes a number as an argument and returns True or False depending on whether the number is symmetrical or not. A number is symmetrical when it is the same as its reverse.\n",
    "Examples\n",
    "is_symmetrical(7227) ➞ True\n",
    "\n",
    "is_symmetrical(12567) ➞ False\n",
    "\n",
    "is_symmetrical(44444444) ➞ True\n",
    "\n",
    "is_symmetrical(9939) ➞ False\n",
    "\n",
    "is_symmetrical(1112111) ➞ True\n"
   ]
  },
  {
   "cell_type": "code",
   "execution_count": 8,
   "id": "f587d517",
   "metadata": {},
   "outputs": [
    {
     "name": "stdout",
     "output_type": "stream",
     "text": [
      "True\n",
      "True\n",
      "False\n"
     ]
    }
   ],
   "source": [
    "def is_symmetrical(n):\n",
    "    \n",
    "    current_Digit = 0\n",
    "    reversed_Digit = 0\n",
    "    remain_num= n\n",
    "   \n",
    "    while(remain_num != 0):\n",
    "        reversed_Digit= reversed_Digit * 10 +  (remain_num% 10)\n",
    "        remain_num = remain_num//10  ## Divide and round down to integer\n",
    "        #print(remain_num)\n",
    "        \n",
    "    if reversed_Digit == n:\n",
    "        return True\n",
    "    else:\n",
    "        return False\n",
    "    \n",
    "print(is_symmetrical(7227))\n",
    "print(is_symmetrical(1112111)) \n",
    "print(is_symmetrical(9939))"
   ]
  },
  {
   "cell_type": "markdown",
   "id": "569d1c82",
   "metadata": {},
   "source": [
    "Question 2\n",
    "Given a string of numbers separated by a comma and space, return the product of the numbers.\n",
    "Examples\n",
    "multiply_nums(\"2, 3\") ➞ 6\n",
    "\n",
    "multiply_nums(\"1, 2, 3, 4\") ➞ 24\n",
    "\n",
    "multiply_nums(\"54, 75, 453, 0\") ➞ 0\n",
    "\n",
    "multiply_nums(\"10, -2\") ➞ -20\n"
   ]
  },
  {
   "cell_type": "code",
   "execution_count": 15,
   "id": "6908bb97",
   "metadata": {},
   "outputs": [
    {
     "name": "stdout",
     "output_type": "stream",
     "text": [
      "24\n",
      "-20\n"
     ]
    }
   ],
   "source": [
    "def multiply_nums(str):\n",
    "    str = str.replace(' ', \"\")\n",
    "    str = str.split(',')\n",
    "    result= 1\n",
    "    for i in str:\n",
    "        result = result * int(i)\n",
    "    return result\n",
    "\n",
    "print(multiply_nums(\"1, 2, 3, 4\"))\n",
    "print(multiply_nums(\"10, -2\"))"
   ]
  },
  {
   "cell_type": "markdown",
   "id": "2040125f",
   "metadata": {},
   "source": [
    "Question 3\n",
    "Create a function that squares every digit of a number.\n",
    "Examples\n",
    "square_digits(9119) ➞ 811181\n",
    "\n",
    "square_digits(2483) ➞ 416649\n",
    "\n",
    "square_digits(3212) ➞ 9414\n"
   ]
  },
  {
   "cell_type": "code",
   "execution_count": 20,
   "id": "876acf3f",
   "metadata": {},
   "outputs": [
    {
     "data": {
      "text/plain": [
       "'416649'"
      ]
     },
     "execution_count": 20,
     "metadata": {},
     "output_type": "execute_result"
    }
   ],
   "source": [
    "def square_digits(n): \n",
    "    return ''.join(str(int(i)**2) for i in str(n))\n",
    "\n",
    "square_digits(2483)"
   ]
  },
  {
   "cell_type": "code",
   "execution_count": null,
   "id": "88e73a50",
   "metadata": {},
   "outputs": [],
   "source": [
    "Question 4\n",
    "Create a function that sorts a list and removes all duplicate items from it.\n",
    "Examples\n",
    "setify([1, 3, 3, 5, 5]) ➞ [1, 3, 5]\n",
    "\n",
    "setify([4, 4, 4, 4]) ➞ [4]\n",
    "\n",
    "setify([5, 7, 8, 9, 10, 15]) ➞ [5, 7, 8, 9, 10, 15]\n",
    "\n",
    "setify([3, 3, 3, 2, 1]) ➞ [1, 2, 3]\n",
    "\n"
   ]
  },
  {
   "cell_type": "code",
   "execution_count": 24,
   "id": "d220f5d9",
   "metadata": {},
   "outputs": [
    {
     "name": "stdout",
     "output_type": "stream",
     "text": [
      "{1, 3, 5}\n",
      "{4}\n",
      "{5, 7, 8, 9, 10, 15}\n"
     ]
    }
   ],
   "source": [
    "def setify(lst):\n",
    "    return set(lst)\n",
    "\n",
    "print(setify([1, 3, 3, 5, 5]))\n",
    "\n",
    "print(setify([4, 4, 4, 4])) \n",
    "print(setify([5, 7, 8, 9, 10, 15]))"
   ]
  },
  {
   "cell_type": "markdown",
   "id": "991ec804",
   "metadata": {},
   "source": [
    "Question 5\n",
    "Create a function that returns the mean of all digits.\n",
    "Examples\n",
    "mean(42) ➞ 3\n",
    "\n",
    "mean(12345) ➞ 3\n",
    "\n",
    "mean(666) ➞ 6\n"
   ]
  },
  {
   "cell_type": "code",
   "execution_count": 34,
   "id": "fb79aab2",
   "metadata": {},
   "outputs": [
    {
     "name": "stdout",
     "output_type": "stream",
     "text": [
      "6\n",
      "3\n"
     ]
    }
   ],
   "source": [
    "def mean(s):\n",
    "    sum=0\n",
    "    N = len(str(s)) \n",
    "    for i in str(s):\n",
    "        sum+= int(i)\n",
    "    return int(sum/N)  ##cal and return average\n",
    "    \n",
    "    \n",
    "print(mean(567))\n",
    "print(mean(12345))"
   ]
  },
  {
   "cell_type": "code",
   "execution_count": null,
   "id": "6a0bce1b",
   "metadata": {},
   "outputs": [],
   "source": []
  }
 ],
 "metadata": {
  "kernelspec": {
   "display_name": "Python 3",
   "language": "python",
   "name": "python3"
  }
 },
 "nbformat": 4,
 "nbformat_minor": 5
}
