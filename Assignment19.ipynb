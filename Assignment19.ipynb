{
 "cells": [
  {
   "cell_type": "markdown",
   "id": "275b224f",
   "metadata": {},
   "source": [
    "#### Assignment19 Submitted by.......Tanuja Satish Dhope"
   ]
  },
  {
   "cell_type": "markdown",
   "id": "505cdfb8",
   "metadata": {},
   "source": [
    "Question1\n",
    "Create a function that takes a string and returns a string in which each character is repeated once.\n",
    "Examples\n",
    "double_char(\"String\") ➞ \"SSttrriinngg\"\n",
    "\n",
    "double_char(\"Hello World!\") ➞ \"HHeelllloo  WWoorrlldd!!\"\n",
    "\n",
    "double_char(\"1234!_ \") ➞ \"11223344!!__  \"\n"
   ]
  },
  {
   "cell_type": "code",
   "execution_count": 13,
   "id": "19d17d8f",
   "metadata": {},
   "outputs": [
    {
     "name": "stdout",
     "output_type": "stream",
     "text": [
      "Enter the string :tanuja\n",
      " String with each character is repeated once: ttaannuujjaa\n"
     ]
    }
   ],
   "source": [
    "def double_char(string):\n",
    "      return ''.join([c+c for c in string])\n",
    "    \n",
    "input_string=input(\"Enter the string :\")  \n",
    "output_string=double_char(input_string)\n",
    "print(\" String with each character is repeated once:\",output_string)"
   ]
  },
  {
   "cell_type": "markdown",
   "id": "613610e2",
   "metadata": {},
   "source": [
    "Question2:\n",
    "Create a function that reverses a boolean value and returns the string \"boolean expected\" if another variable type is given.\n",
    "Examples\n",
    "reverse(True) ➞ False\n",
    "\n",
    "reverse(False) ➞ True\n",
    "\n",
    "reverse(0) ➞ \"boolean expected\"\n",
    "\n",
    "reverse(None) ➞ \"boolean expected\"\n",
    "\n"
   ]
  },
  {
   "cell_type": "code",
   "execution_count": 27,
   "id": "604ebfd5",
   "metadata": {},
   "outputs": [
    {
     "name": "stdout",
     "output_type": "stream",
     "text": [
      "False\n",
      "True\n",
      "boolean expected\n",
      "boolean expected\n"
     ]
    }
   ],
   "source": [
    "def reverse(arg=None):\n",
    "    return not arg if type(arg) == bool else \"boolean expected\"\n",
    "\n",
    "print(reverse(True)) # False\n",
    "print(reverse(False)) # True\n",
    "print(reverse(0)) # \"boolean expected\"\n",
    "print(reverse(None)) # \"boolean expected\"\n",
    "\n"
   ]
  },
  {
   "cell_type": "markdown",
   "id": "bc5a44dd",
   "metadata": {},
   "source": [
    "Question3\n",
    "Create a function that returns the thickness (in meters) of a piece of paper after folding it n number of times. The paper starts off with a thickness of 0.5mm.\n",
    "Examples\n",
    "num_layers(1) ➞ \"0.001m\"\n",
    "##### Paper folded once is 1mm (equal to 0.001m)\n",
    "\n",
    "num_layers(4) ➞ \"0.008m\"\n",
    "##### Paper folded 4 times is 8mm (equal to 0.008m)\n",
    "\n",
    "num_layers(21) ➞ \"1048.576m\"\n",
    "##### Paper folded 21 times is 1048576mm (equal to 1048.576m)\n",
    "\n"
   ]
  },
  {
   "cell_type": "code",
   "execution_count": 35,
   "id": "be43830f",
   "metadata": {},
   "outputs": [
    {
     "name": "stdout",
     "output_type": "stream",
     "text": [
      "enter the thickness in meters:6\n",
      "0.032m\n"
     ]
    }
   ],
   "source": [
    "def num_layers(m):\n",
    "    thickness=0.5\n",
    "    for j in range(m):\n",
    "        thickness*=2\n",
    "    return str((thickness/1000))+'m'\n",
    "    \n",
    "    \n",
    "input_thick=int(input(\"enter the thickness in meters:\"))\n",
    "output_m=num_layers(input_thick)\n",
    "print(output_m)"
   ]
  },
  {
   "cell_type": "markdown",
   "id": "d3cf5a46",
   "metadata": {},
   "source": [
    "Question4\n",
    "Create a function that takes a single string as argument and returns an ordered list containing the indices of all capital letters in the string.\n",
    "Examples\n",
    "index_of_caps(\"eDaBiT\") ➞ [1, 3, 5]\n",
    "\n",
    "index_of_caps(\"eQuINoX\") ➞ [1, 3, 4, 6]\n",
    "\n",
    "index_of_caps(\"determine\") ➞ []\n",
    "\n",
    "index_of_caps(\"STRIKE\") ➞ [0, 1, 2, 3, 4, 5]\n",
    "\n",
    "index_of_caps(\"sUn\") ➞ [1]\n",
    "\n"
   ]
  },
  {
   "cell_type": "code",
   "execution_count": 39,
   "id": "0e67ad1b",
   "metadata": {},
   "outputs": [
    {
     "name": "stdout",
     "output_type": "stream",
     "text": [
      "enter the string consisting of small and capital letters:tyOj\n",
      " The index of all caps letetrs are: [2]\n"
     ]
    }
   ],
   "source": [
    "def index_of_caps(str):\n",
    "    list=[]\n",
    "    for i in range(len(str)):\n",
    "        if str[i].isupper():\n",
    "                list.append(i)\n",
    "    return list        \n",
    "        \n",
    "    \n",
    "string1=input(\"enter the string consisting of small and capital letters:\")\n",
    "index1=index_of_caps(string1)\n",
    "print(\" The index of all caps letetrs are:\",index1)"
   ]
  },
  {
   "cell_type": "code",
   "execution_count": 42,
   "id": "49a958b7",
   "metadata": {},
   "outputs": [
    {
     "name": "stdout",
     "output_type": "stream",
     "text": [
      "[1, 3, 5]\n",
      "[1, 3, 4, 6]\n",
      "[]\n",
      "[0, 1, 2, 3, 4, 5]\n",
      "[1]\n"
     ]
    }
   ],
   "source": [
    "def index_of_caps(str):\n",
    "    list=[]\n",
    "    for i in range(len(str)):\n",
    "        if str[i].isupper():\n",
    "                list.append(i)\n",
    "    return list \n",
    "\n",
    "\n",
    "print(index_of_caps(\"eDaBiT\") )\n",
    "\n",
    "print(index_of_caps(\"eQuINoX\")) \n",
    "\n",
    "print(index_of_caps(\"determine\")) \n",
    "\n",
    "print(index_of_caps(\"STRIKE\"))\n",
    "\n",
    "print(index_of_caps(\"sUn\")) \n",
    "\n"
   ]
  },
  {
   "cell_type": "markdown",
   "id": "bcaeedea",
   "metadata": {},
   "source": [
    "Question5\n",
    "Using list comprehensions, create a function that finds all even numbers from 1 to the given number.\n",
    "Examples\n",
    "find_even_nums(8) ➞ [2, 4, 6, 8]\n",
    "\n",
    "find_even_nums(4) ➞ [2, 4]\n",
    "\n",
    "find_even_nums(2) ➞ [2]\n",
    "\n"
   ]
  },
  {
   "cell_type": "code",
   "execution_count": 47,
   "id": "7df8b60a",
   "metadata": {},
   "outputs": [
    {
     "name": "stdout",
     "output_type": "stream",
     "text": [
      "enter the number:11\n",
      "All even numbers from 1 to given numberc11 [2, 4, 6, 8, 10]\n"
     ]
    }
   ],
   "source": [
    "def find_even_nums(n):\n",
    "    return [i for i in range(2,n+1) if i%2==0 ]\n",
    "\n",
    "    \n",
    "num=int(input(\"enter the number:\"))\n",
    "output=find_even_nums(num)\n",
    "print(\"All even numbers from 1 to given numberc{}\".format(num),output)"
   ]
  },
  {
   "cell_type": "code",
   "execution_count": null,
   "id": "30776a62",
   "metadata": {},
   "outputs": [],
   "source": []
  }
 ],
 "metadata": {
  "kernelspec": {
   "display_name": "Python 3",
   "language": "python",
   "name": "python3"
  },
  "language_info": {
   "codemirror_mode": {
    "name": "ipython",
    "version": 3
   },
   "file_extension": ".py",
   "mimetype": "text/x-python",
   "name": "python",
   "nbconvert_exporter": "python",
   "pygments_lexer": "ipython3",
   "version": "3.8.8"
  }
 },
 "nbformat": 4,
 "nbformat_minor": 5
}
