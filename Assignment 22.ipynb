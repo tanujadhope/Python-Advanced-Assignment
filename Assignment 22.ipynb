{
 "cells": [
  {
   "cell_type": "markdown",
   "id": "7428149a",
   "metadata": {},
   "source": [
    "### Assignment22 submitted by Tanuja Satish Dhope"
   ]
  },
  {
   "cell_type": "code",
   "execution_count": null,
   "id": "05aa311e",
   "metadata": {},
   "outputs": [],
   "source": [
    "Question1\n",
    "Create a function that takes three parameters where:\n",
    "•\tx is the start of the range (inclusive).\n",
    "•\ty is the end of the range (inclusive).\n",
    "•\tn is the divisor to be checked against.\n",
    "Return an ordered list with numbers in the range that are divisible by the third parameter n. Return an empty list if there are no numbers that are divisible by n.\n",
    "Examples\n",
    "list_operation(1, 10, 3) ➞ [3, 6, 9]\n",
    "\n",
    "list_operation(7, 9, 2) ➞ [8]\n",
    "\n",
    "list_operation(15, 20, 7) ➞ []\n",
    "\n"
   ]
  },
  {
   "cell_type": "code",
   "execution_count": 4,
   "id": "3173d425",
   "metadata": {},
   "outputs": [
    {
     "name": "stdout",
     "output_type": "stream",
     "text": [
      "[8]\n",
      "[3, 6, 9, 12, 15, 18, 21, 24, 27]\n"
     ]
    }
   ],
   "source": [
    "def list_operation(start,end,divisor):\n",
    "    x=start\n",
    "    y=end\n",
    "    lst=[]\n",
    "    for i in range(x,y+1):\n",
    "         if i%divisor==0:\n",
    "            lst.append(i)\n",
    "    return lst        \n",
    "\n",
    "    \n",
    "print(list_operation(7, 9, 2))\n",
    "print(list_operation(1,28,3))"
   ]
  },
  {
   "cell_type": "markdown",
   "id": "fba49824",
   "metadata": {},
   "source": [
    "Question2\n",
    "Create a function that takes in two lists and returns True if the second list follows the first list by one element, and False otherwise. In other words, determine if the second list is the first list shifted to the right by 1.\n",
    "Examples\n",
    "simon_says([1, 2], [5, 1]) ➞ True\n",
    "\n",
    "simon_says([1, 2], [5, 5]) ➞ False\n"
   ]
  },
  {
   "cell_type": "code",
   "execution_count": 6,
   "id": "efd544d3",
   "metadata": {},
   "outputs": [
    {
     "name": "stdout",
     "output_type": "stream",
     "text": [
      "True\n"
     ]
    }
   ],
   "source": [
    "def list_one_match(lst1,lst2):\n",
    "    count=0\n",
    "    for element in lst1:\n",
    "        if element in lst2:\n",
    "            count+=1            \n",
    "    if  count==0:\n",
    "        return False\n",
    "    else:\n",
    "        return True\n",
    "    \n",
    "lst1=[1,2,4,5,6]\n",
    "lst2=[2,3,4,5,6]\n",
    "print(list_one_match(lst1,lst2))    "
   ]
  },
  {
   "cell_type": "markdown",
   "id": "a6134ee5",
   "metadata": {},
   "source": [
    "Question3\n",
    "A group of friends have decided to start a secret society. The name will be the first letter of each of their names, sorted in alphabetical order.\n",
    "Create a function that takes in a list of names and returns the name of the secret society.\n",
    "Examples\n",
    "society_name([\"Adam\", \"Sarah\", \"Malcolm\"]) ➞ \"AMS\"\n",
    "\n",
    "society_name([\"Harry\", \"Newt\", \"Luna\", \"Cho\"]) ➞ \"CHLN\"\n"
   ]
  },
  {
   "cell_type": "code",
   "execution_count": 11,
   "id": "ea1ed34c",
   "metadata": {},
   "outputs": [
    {
     "name": "stdout",
     "output_type": "stream",
     "text": [
      "The secret key is : CHLN\n",
      "The secret key is : CJMPRR\n"
     ]
    }
   ],
   "source": [
    "def society_name(lst1):\n",
    "    return ''.join([i[0] for i in sorted(lst1)])\n",
    "    \n",
    "    \n",
    "l=[\"Harry\", \"Newt\", \"Luna\", \"Cho\"]\n",
    "print(\"The secret key is :\",society_name(l))\n",
    "\n",
    "l=[\"Phoebe\", \"Chandler\", \"Rachel\", \"Ross\", \"Monica\", \"Joey\"]\n",
    "\n",
    "print(\"The secret key is :\",society_name(l))"
   ]
  },
  {
   "cell_type": "markdown",
   "id": "932d670e",
   "metadata": {},
   "source": [
    "Question4\n",
    "An isogram is a word that has no duplicate letters. Create a function that takes a string and returns either True or False depending on whether or not it's an \"isogram\".\n",
    "Examples\n",
    "is_isogram(\"Algorism\") ➞ True\n",
    "\n",
    "is_isogram(\"PasSword\") ➞ False\n",
    "### Not case sensitive.\n",
    "\n"
   ]
  },
  {
   "cell_type": "code",
   "execution_count": 18,
   "id": "764d0043",
   "metadata": {},
   "outputs": [
    {
     "data": {
      "text/plain": [
       "False"
      ]
     },
     "execution_count": 18,
     "metadata": {},
     "output_type": "execute_result"
    }
   ],
   "source": [
    "def is_isogram(l):\n",
    "    for i in range(len(l)):\n",
    "        if l.lower().count(l[i]) > 1:\n",
    "            return False\n",
    "    else:\n",
    "            return True\n",
    "\n",
    "is_isogram(\"PasSword\")       \n",
    "        "
   ]
  },
  {
   "cell_type": "code",
   "execution_count": 19,
   "id": "f2ece24d",
   "metadata": {},
   "outputs": [
    {
     "data": {
      "text/plain": [
       "False"
      ]
     },
     "execution_count": 19,
     "metadata": {},
     "output_type": "execute_result"
    }
   ],
   "source": [
    " is_isogram(\"MAgnetice\")"
   ]
  },
  {
   "cell_type": "code",
   "execution_count": 21,
   "id": "ee095953",
   "metadata": {},
   "outputs": [
    {
     "data": {
      "text/plain": [
       "True"
      ]
     },
     "execution_count": 21,
     "metadata": {},
     "output_type": "execute_result"
    }
   ],
   "source": [
    " is_isogram(\"Algorism\") "
   ]
  },
  {
   "cell_type": "markdown",
   "id": "3c292cd3",
   "metadata": {},
   "source": [
    "Question5\n",
    "Create a function that takes a string and returns True or False, depending on whether the characters are in order or not.\n",
    "Examples\n",
    "is_in_order(\"abc\") ➞ True\n",
    "\n",
    "is_in_order(\"edabit\") ➞ False\n"
   ]
  },
  {
   "cell_type": "code",
   "execution_count": 28,
   "id": "c2423b29",
   "metadata": {},
   "outputs": [
    {
     "name": "stdout",
     "output_type": "stream",
     "text": [
      "True\n",
      "False\n"
     ]
    }
   ],
   "source": [
    "def is_in_order(l):\n",
    "    c=[l[i]for i in range (len(l))]\n",
    "    c.sort()\n",
    "    for j in range(len(l)):\n",
    "        if c[j]!=l[j]:\n",
    "            return False\n",
    "    return True  \n",
    "\n",
    "\n",
    "print(is_in_order(\"abc\") )\n",
    "print(is_in_order(\"edabit\")) \n"
   ]
  }
 ],
 "metadata": {
  "kernelspec": {
   "display_name": "Python 3",
   "language": "python",
   "name": "python3"
  },
  "language_info": {
   "codemirror_mode": {
    "name": "ipython",
    "version": 3
   },
   "file_extension": ".py",
   "mimetype": "text/x-python",
   "name": "python",
   "nbconvert_exporter": "python",
   "pygments_lexer": "ipython3",
   "version": "3.8.8"
  }
 },
 "nbformat": 4,
 "nbformat_minor": 5
}
