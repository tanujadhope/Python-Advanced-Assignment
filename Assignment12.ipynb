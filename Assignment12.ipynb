{
 "cells": [
  {
   "cell_type": "markdown",
   "id": "32564eba",
   "metadata": {},
   "source": [
    "### Assignment12 submitted by___Tanuja S.Dhope"
   ]
  },
  {
   "cell_type": "markdown",
   "id": "77b6fd5e",
   "metadata": {},
   "source": [
    "1.\tWrite a Python program to Extract Unique values dictionary values?\n",
    "2.\tWrite a Python program to find the sum of all items in a dictionary?\n",
    "3.\tWrite a Python program to Merging two Dictionaries?\n",
    "4.\tWrite a Python program to convert key-values list to flat dictionary?\n",
    "5.\tWrite a Python program to insertion at the beginning in OrderedDict?\n",
    "6.\tWrite a Python program to check order of character in string using OrderedDict()?\n",
    "7.\tWrite a Python program to sort Python Dictionaries by Key or Value?\n"
   ]
  },
  {
   "cell_type": "code",
   "execution_count": 1,
   "id": "17f03cc5",
   "metadata": {},
   "outputs": [
    {
     "name": "stdout",
     "output_type": "stream",
     "text": [
      "The original dictionary is : {'item': [10, 11, 12, 13], 'key1': [1, 2, 7, 5], 'key2': [5, 7, 10, 1], 'key3': [1, 2, 12]}\n",
      "The unique values list is : [1, 2, 5, 7, 10, 11, 12, 13]\n"
     ]
    }
   ],
   "source": [
    "#1.\tWrite a Python program to Extract Unique values dictionary values?\n",
    "\n",
    "\n",
    "dict = {'item' : [10,11,12,13],\n",
    "    'key1' : [1, 2, 7, 5],\n",
    "    'key2' : [5, 7, 10, 1],\n",
    "    'key3' : [1, 2, 12]}\n",
    "\n",
    "# printing original dictionary\n",
    "print(\"The original dictionary is : \" + str(dict))\n",
    "\n",
    "list1=list(dict.values())\n",
    "y=[]\n",
    "result=[]\n",
    "for i in list1:\n",
    "    y.extend(i)\n",
    "\n",
    "for j in y:\n",
    "    if j not in result:\n",
    "        result.append(j)\n",
    "result.sort()\n",
    "\n",
    "# printing result\n",
    "print(\"The unique values list is : \" + str(result))\n"
   ]
  },
  {
   "cell_type": "code",
   "execution_count": 2,
   "id": "2132757c",
   "metadata": {},
   "outputs": [
    {
     "name": "stdout",
     "output_type": "stream",
     "text": [
      "Sum of dictionary values : 53\n"
     ]
    }
   ],
   "source": [
    "\n",
    "#2.Write a Python program to find the sum of all items in a dictionary?\n",
    "\n",
    "# sum function\n",
    "def Sum(dict):\n",
    "   sum_ = 0\n",
    "   for i in dict.values():\n",
    "      sum_ = sum_ + i\n",
    "   return sum_\n",
    "\n",
    "# Driver Function\n",
    "dict = {'item' : 11,\n",
    "    'key1' : 5,\n",
    "    'key2' :6,\n",
    "    'key3' : 31}\n",
    "print(\"Sum of dictionary values :\", Sum(dict))"
   ]
  },
  {
   "cell_type": "code",
   "execution_count": 3,
   "id": "c6cb5c75",
   "metadata": {},
   "outputs": [
    {
     "name": "stdout",
     "output_type": "stream",
     "text": [
      "First  dictionari is: {'item': 11, 'key1': 5, 'key2': 6, 'key3': 31}\n",
      "Second  dictionari is: {'item1': 10, 'key4': 15, 'key5': 61, 'key6': 33}\n",
      "The merge dictionaries are: None\n",
      "The merge dictionaries are: {'item1': 10, 'key4': 15, 'key5': 61, 'key6': 33, 'item': 11, 'key1': 5, 'key2': 6, 'key3': 31}\n",
      "First  dictionari is: {'item': 11, 'key1': 5, 'key2': 6, 'key3': 31}\n",
      "Second  dictionari is: {'item1': 10, 'key4': 15, 'key5': 61, 'key6': 33}\n",
      "The merge dictionaries are: {'item': 11, 'key1': 5, 'key2': 6, 'key3': 31, 'item1': 10, 'key4': 15, 'key5': 61, 'key6': 33}\n"
     ]
    }
   ],
   "source": [
    "#3.Write a Python program to Merging two Dictionaries?\n",
    "dict1 = {'item' : 11,\n",
    "    'key1' : 5,\n",
    "    'key2' :6,\n",
    "    'key3' : 31}\n",
    "dict2 = {'item1' : 10,\n",
    "    'key4' : 15,\n",
    "    'key5' :61,\n",
    "    'key6' : 33}\n",
    "print(\"First  dictionari is:\",dict1)\n",
    "print(\"Second  dictionari is:\",dict2)\n",
    "result=dict2.update(dict1)\n",
    "\n",
    "print(\"The merge dictionaries are:\",result)   ### returns none as update in Dict2\n",
    "print(\"The merge dictionaries are:\",dict2)\n",
    "\n",
    "## OR second approach \n",
    "dict1 = {'item' : 11,\n",
    "    'key1' : 5,\n",
    "    'key2' :6,\n",
    "    'key3' : 31}\n",
    "dict2 = {'item1' : 10,\n",
    "    'key4' : 15,\n",
    "    'key5' :61,\n",
    "    'key6' : 33}\n",
    "print(\"First  dictionari is:\",dict1)\n",
    "print(\"Second  dictionari is:\",dict2)\n",
    "result1={**dict1,**dict2}\n",
    "\n",
    "print(\"The merge dictionaries are:\",result1)   ### returns none as update in Dict2\n"
   ]
  },
  {
   "cell_type": "code",
   "execution_count": 1,
   "id": "03be68a1",
   "metadata": {},
   "outputs": [
    {
     "name": "stdout",
     "output_type": "stream",
     "text": [
      "The dictionary is : \n",
      "{'month_num': [1, 2, 3, 4, 5, 6], 'name_of_month': ['Jan', 'Feb', 'March', 'Apr', 'May', 'June']}\n",
      "The flattened dictionary is: \n",
      "{1: 'Jan', 2: 'Feb', 3: 'March', 4: 'Apr', 5: 'May', 6: 'June'}\n"
     ]
    }
   ],
   "source": [
    "#4.Write a Python program to convert key-values list to flat dictionary?\n",
    "from itertools import product\n",
    "\n",
    "my_dict = {'month_num' : [1, 2, 3, 4, 5, 6], 'name_of_month' : ['Jan', 'Feb', 'March', 'Apr', 'May', 'June']}\n",
    "\n",
    "print(\"The dictionary is : \")\n",
    "print(my_dict)\n",
    "\n",
    "my_result = dict(zip(my_dict['month_num'], my_dict['name_of_month']))\n",
    "\n",
    "print(\"The flattened dictionary is: \")\n",
    "print(my_result)\n",
    "\n"
   ]
  },
  {
   "cell_type": "code",
   "execution_count": 5,
   "id": "3d9bba77",
   "metadata": {},
   "outputs": [
    {
     "name": "stdout",
     "output_type": "stream",
     "text": [
      "Resultant Dictionary :OrderedDict([('item', '4'), ('paymnet', 'cash'), ('mailid', 'tan@yahoo.com'), ('mno', 2345678922)])\n"
     ]
    }
   ],
   "source": [
    "#5.Write a Python program to insertion at the beginning in OrderedDict?\n",
    "# Python code to demonstrate\n",
    "# insertion of items in beginning of ordered dict\n",
    "from collections import OrderedDict\n",
    "\n",
    "# initialising ordered_dict\n",
    "ini_dict1 = OrderedDict([('mailid', 'tan@yahoo.com'), ('mno', 2345678922)])\n",
    "ini_dict2 = OrderedDict([(\"item\", '4'), (\"paymnet\", 'cash')])\n",
    "\n",
    "# adding in beginning of dict\n",
    "both = OrderedDict(list(ini_dict2.items()) + list(ini_dict1.items()))\n",
    "\n",
    "# print result\n",
    "print (\"Resultant Dictionary :\"+str(both))\n"
   ]
  },
  {
   "cell_type": "code",
   "execution_count": 11,
   "id": "a70c8de3",
   "metadata": {},
   "outputs": [
    {
     "name": "stdout",
     "output_type": "stream",
     "text": [
      "false\n"
     ]
    }
   ],
   "source": [
    "#6.Write a Python program to check order of character in string using OrderedDict()?\n",
    "\n",
    "# Function to check if string follows order of\n",
    "# characters defined by a pattern\n",
    "from collections import OrderedDict\n",
    "\n",
    "def check_Order(input, pattern):\n",
    "\n",
    "# create empty OrderedDict\n",
    "# output will be like {'a': None,'b': None, 'c': None}\n",
    "    dict = OrderedDict.fromkeys(input)\n",
    "\n",
    "    # traverse generated OrderedDict parallel with\n",
    "    # pattern string to check if order of characters\n",
    "    # are same or not\n",
    "    ptrlen = 0\n",
    "    for key,value in dict.items():\n",
    "        if (key == pattern[ptrlen]):\n",
    "            ptrlen = ptrlen + 1\n",
    "# check if we have traverse complete# pattern string\n",
    "        if (ptrlen == (len(pattern))):\n",
    "            return 'true'\n",
    "\n",
    "# if we come out from for loop that means# order was mismatched\n",
    "    return 'false'\n",
    "\n",
    "# Driver program\n",
    "if __name__ == \"__main__\":\n",
    "\n",
    "\n",
    "\tinput = 'engineeringwala  lesson'\n",
    "\tpattern = 'wala'\n",
    "\tprint (check_Order(input,pattern))\n",
    "\n"
   ]
  },
  {
   "cell_type": "code",
   "execution_count": 13,
   "id": "41862d2a",
   "metadata": {},
   "outputs": [
    {
     "name": "stdout",
     "output_type": "stream",
     "text": [
      "{'can': 32, 'rajeev': 10, 'rman': 9, 'sam': 15, 'tan': 2}\n"
     ]
    }
   ],
   "source": [
    "#7.Write a Python program to sort Python Dictionaries by Key or Value?\n",
    "myDict = {'rajeev': 10, 'rman': 9,\n",
    "\t\t'sam': 15, 'tan': 2, 'can': 32}\n",
    "\n",
    "myKeys = list(myDict.keys())\n",
    "myKeys.sort()\n",
    "sorted_dict = {i: myDict[i] for i in myKeys}\n",
    "\n",
    "print(sorted_dict)\n"
   ]
  },
  {
   "cell_type": "code",
   "execution_count": null,
   "id": "77d6cef1",
   "metadata": {},
   "outputs": [],
   "source": []
  }
 ],
 "metadata": {
  "kernelspec": {
   "display_name": "Python 3",
   "language": "python",
   "name": "python3"
  },
  "language_info": {
   "codemirror_mode": {
    "name": "ipython",
    "version": 3
   },
   "file_extension": ".py",
   "mimetype": "text/x-python",
   "name": "python",
   "nbconvert_exporter": "python",
   "pygments_lexer": "ipython3",
   "version": "3.8.8"
  }
 },
 "nbformat": 4,
 "nbformat_minor": 5
}
