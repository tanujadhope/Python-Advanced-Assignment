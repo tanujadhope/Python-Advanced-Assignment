{
 "cells": [
  {
   "cell_type": "markdown",
   "id": "47077bc7",
   "metadata": {},
   "source": [
    "Assignment17 submitted by .....Tanuja S.Dhope"
   ]
  },
  {
   "cell_type": "markdown",
   "id": "b1c0ddf3",
   "metadata": {},
   "source": [
    "Question1. Create a function that takes three arguments a, b, c and returns the sum of the numbers that are evenly divided by c from the range a, b inclusive.\n",
    "Examples\n",
    "evenly_divisible(1, 10, 20) ➞ 0\n",
    "#### No number between 1 and 10 can be evenly divided by 20.\n",
    "\n",
    "evenly_divisible(1, 10, 2) ➞ 30\n",
    "#### 2 + 4 + 6 + 8 + 10 = 30\n"
   ]
  },
  {
   "cell_type": "code",
   "execution_count": 6,
   "id": "013560e8",
   "metadata": {},
   "outputs": [
    {
     "name": "stdout",
     "output_type": "stream",
     "text": [
      "enter that value of a:1\n",
      "enter that value of b:10\n",
      "enter that value of c:2\n",
      "number between 1  and 10 can be evenly divided by 2\n",
      "The result is: 30\n"
     ]
    }
   ],
   "source": [
    "def chk_evenly_divisible(a,b,c):\n",
    "    lower_limit=a\n",
    "    higher_limit=b\n",
    "    divisor1=c\n",
    "    i=lower_limit\n",
    "    sum=0\n",
    "    \n",
    "    while i<=higher_limit:\n",
    "        if i%divisor1==0:\n",
    "            sum+=i\n",
    "            \n",
    "        i+=1\n",
    "    \n",
    "    if sum==0:\n",
    "        print(\"no number between {}  and {} can be evenly divided by {}\".format(a,b,c))\n",
    "        return sum\n",
    "    else:\n",
    "       print(\"number between {}  and {} can be evenly divided by {}\".format(a,b,c))       \n",
    "       return sum\n",
    "\n",
    "a=int(input(\"enter that value of a:\"))\n",
    "b=int(input(\"enter that value of b:\"))\n",
    "c=int(input(\"enter that value of c:\"))\n",
    "result=chk_evenly_divisible(a,b,c)\n",
    "print(\"The result is:\",result)\n"
   ]
  },
  {
   "cell_type": "markdown",
   "id": "a92aab91",
   "metadata": {},
   "source": [
    "# "
   ]
  },
  {
   "cell_type": "markdown",
   "id": "7c391adb",
   "metadata": {},
   "source": [
    "Question2. Create a function that returns True if a given inequality expression is correct and False otherwise.\n",
    "correct_signs(\"3 < 7 < 11\") ➞ True\n",
    "\n",
    "correct_signs(\"13 > 44 > 33 > 1\") ➞ False\n",
    "\n",
    "correct_signs(\"1 < 2 < 6 < 9 > 3\") ➞ True\n",
    "\n"
   ]
  },
  {
   "cell_type": "code",
   "execution_count": 11,
   "id": "a40d12a3",
   "metadata": {},
   "outputs": [
    {
     "name": "stdout",
     "output_type": "stream",
     "text": [
      "True\n",
      "False\n",
      "True\n"
     ]
    }
   ],
   "source": [
    "###Python eval() function parse the expression argument and\n",
    "##evaluate it as a python expression and runs python expression (code) within the program.\n",
    "def correct_signs(txt):\n",
    "    return eval(txt)\n",
    "\n",
    "\n",
    "\n",
    "print(correct_signs(\"3 < 7 < 11\"))\n",
    "\n",
    "print(correct_signs(\"13 > 44 > 33 > 1\"))\n",
    "\n",
    "print(correct_signs(\"1 < 2 < 6 < 9 > 3\"))\n"
   ]
  },
  {
   "cell_type": "markdown",
   "id": "e31ceb5b",
   "metadata": {},
   "source": [
    "Question3. Create a function that replaces all the vowels in a string with a specified character.\n",
    "Examples\n",
    "replace_vowels(\"the aardvark\", \"#\") ➞ \"th# ##rdv#rk\"\n",
    "\n",
    "replace_vowels(\"minnie mouse\", \"?\") ➞ \"m?nn?? m??s?\"\n",
    "\n",
    "replace_vowels(\"shakespeare\", \"*\") ➞ \"sh*k*sp**r*\"\n"
   ]
  },
  {
   "cell_type": "code",
   "execution_count": 21,
   "id": "336a98d3",
   "metadata": {},
   "outputs": [
    {
     "name": "stdout",
     "output_type": "stream",
     "text": [
      "enter a string : amyiwqunjik\n",
      "enter a vowel replacing string : @\n",
      "\n",
      "Given Sting: amyiwqunjik\n",
      "Given Specified Character: @\n",
      "Afer replacing vowels with the specified character: @my@wq@nj@k\n"
     ]
    }
   ],
   "source": [
    "def replace_vowels(string1,charc1):\n",
    "    vowels = 'AEIOUaeiou'\n",
    "    for i in vowels:\n",
    "        string1=string1.replace(i,charc1)\n",
    "    return string1  \n",
    "\n",
    "\n",
    "\n",
    "\n",
    "input_string = input(\"enter a string : \")\n",
    "charac1 = input(\"enter a vowel replacing string : \")\n",
    "print(\"\\nGiven Sting:\", input_string)\n",
    "print(\"Given Specified Character:\", charac1)\n",
    "print(\"Afer replacing vowels with the specified character:\",replace_vowels(input_string,charac1))\n"
   ]
  },
  {
   "cell_type": "markdown",
   "id": "e62be4c8",
   "metadata": {},
   "source": [
    "Question4. Write a function that calculates the factorial of a number recursively.\n",
    "Examples\n",
    "factorial(5) ➞ 120\n",
    "\n",
    "factorial(3) ➞ 6\n",
    "\n",
    "factorial(1) ➞ 1\n",
    "\n",
    "factorial(0) ➞ 1\n",
    "\n"
   ]
  },
  {
   "cell_type": "code",
   "execution_count": 22,
   "id": "e88dac5f",
   "metadata": {},
   "outputs": [
    {
     "name": "stdout",
     "output_type": "stream",
     "text": [
      "number :  6\n",
      "Factorial :  720\n"
     ]
    }
   ],
   "source": [
    "def factorial(n):\n",
    "     \n",
    "# Checking the number  is 1 or 0 then return 1 other wise return\n",
    "    # factorial\n",
    "    if (n==1 or n==0):\n",
    "        return 1\n",
    "     \n",
    "    else:\n",
    "        return (n * factorial(n - 1))\n",
    "    \n",
    "# Driver Code\n",
    "num = 6;\n",
    "print(\"number : \",num)\n",
    "print(\"Factorial : \",factorial(num)) "
   ]
  },
  {
   "cell_type": "markdown",
   "id": "25aa1d85",
   "metadata": {},
   "source": [
    "Question 5\n",
    "Hamming distance is the number of characters that differ between two strings.\n",
    "To illustrate:\n",
    "String1: \"abcbba\"\n",
    "String2: \"abcbda\"\n",
    "\n",
    "Hamming Distance: 1 - \"b\" vs. \"d\" is the only difference.\n",
    "Create a function that computes the hamming distance between two strings.\n",
    "Examples\n",
    "hamming_distance(\"abcde\", \"bcdef\") ➞ 5\n",
    "\n",
    "hamming_distance(\"abcde\", \"abcde\") ➞ 0\n",
    "\n",
    "hamming_distance(\"strong\", \"strung\") ➞ 1\n",
    "\n",
    "\n"
   ]
  },
  {
   "cell_type": "code",
   "execution_count": 28,
   "id": "5e758b58",
   "metadata": {},
   "outputs": [
    {
     "name": "stdout",
     "output_type": "stream",
     "text": [
      "Enter the string1:whjklmn\n",
      "Enter the string2:qghyras\n",
      "hamming_distance is of whjklmn and qghyras is  7\n"
     ]
    }
   ],
   "source": [
    "def hamming_distance(str1, str2):\n",
    "    j=0\n",
    "    count=0\n",
    "    while j<len(str1):\n",
    "        if (str1[j]!=str2[j]):\n",
    "            count+=1\n",
    "        j+=1  \n",
    "    return count\n",
    "str1= input(\"Enter the string1:\")\n",
    "str2=input(\"Enter the string2:\")\n",
    "\n",
    "result=hamming_distance(str1,str2) \n",
    "print(\"hamming_distance is of {} and {} is \".format(str1,str2),result)\n"
   ]
  },
  {
   "cell_type": "code",
   "execution_count": null,
   "id": "9833655b",
   "metadata": {},
   "outputs": [],
   "source": []
  }
 ],
 "metadata": {
  "kernelspec": {
   "display_name": "Python 3",
   "language": "python",
   "name": "python3"
  },
  "language_info": {
   "codemirror_mode": {
    "name": "ipython",
    "version": 3
   },
   "file_extension": ".py",
   "mimetype": "text/x-python",
   "name": "python",
   "nbconvert_exporter": "python",
   "pygments_lexer": "ipython3",
   "version": "3.8.8"
  }
 },
 "nbformat": 4,
 "nbformat_minor": 5
}
