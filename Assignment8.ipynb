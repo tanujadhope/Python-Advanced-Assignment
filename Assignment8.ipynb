{
 "cells": [
  {
   "cell_type": "markdown",
   "id": "c8e7bc75",
   "metadata": {},
   "source": [
    "### Assignment 8 Submitted by ___Tanuja Dhope\n"
   ]
  },
  {
   "cell_type": "code",
   "execution_count": null,
   "id": "f38f0fba",
   "metadata": {},
   "outputs": [],
   "source": [
    "1.Write a Python Program to Add Two Matrices?\n",
    "2.Write a Python Program to Multiply Two Matrices?\n",
    "3.Write a Python Program to Transpose a Matrix?\n",
    "4.Write a Python Program to Sort Words in Alphabetic Order?\n",
    "5.Write a Python Program to Remove Punctuation From a String?\n"
   ]
  },
  {
   "cell_type": "code",
   "execution_count": 17,
   "id": "57b39153",
   "metadata": {},
   "outputs": [
    {
     "name": "stdout",
     "output_type": "stream",
     "text": [
      "[102, 29, 10]\n",
      "[65, 56, 10]\n",
      "[10, 10, 10]\n"
     ]
    }
   ],
   "source": [
    "#1.Write a Python Program to Add Two Matrices?\n",
    "# Program to add two matrices using nested loop\n",
    "\n",
    "X = [[11,21,3],[49 ,5,6],[7 ,8,9]]\n",
    "\n",
    "Y = [[91,8,7],[16,51,4],[3,2,1]]\n",
    "\n",
    "resuly_array = [[0,0,0],[0,0,0],[0,0,0]]\n",
    "\n",
    "# iterate through rows\n",
    "for i in range(len(X)):\n",
    "# iterate through columns\n",
    "    for j in range(len(X[0])):\n",
    "        resuly_array [i][j] = X[i][j] + Y[i][j]\n",
    "\n",
    "for k in resuly_array :\n",
    "    print(k)\n",
    "    \n",
    "\n",
    "\n",
    "   \n",
    "        "
   ]
  },
  {
   "cell_type": "code",
   "execution_count": 18,
   "id": "e0df2012",
   "metadata": {},
   "outputs": [
    {
     "name": "stdout",
     "output_type": "stream",
     "text": [
      "[1001, 168, 21]\n",
      "[784, 255, 24]\n",
      "[21, 16, 9]\n"
     ]
    }
   ],
   "source": [
    "#2.Write a Python Program to Multiply Two Matrices?\n",
    "X = [[11,21,3],[49 ,5,6],[7 ,8,9]]\n",
    "\n",
    "Y = [[91,8,7],[16,51,4],[3,2,1]]\n",
    "\n",
    "resuly_array = [[0,0,0],[0,0,0],[0,0,0]]\n",
    "\n",
    "# iterate through rows\n",
    "for i in range(len(X)):\n",
    "# iterate through columns\n",
    "    for j in range(len(X[0])):\n",
    "        resuly_array [i][j] = X[i][j] * Y[i][j]\n",
    "\n",
    "for k in resuly_array :\n",
    "    print(k)\n",
    "    "
   ]
  },
  {
   "cell_type": "code",
   "execution_count": 20,
   "id": "fff8d08e",
   "metadata": {},
   "outputs": [
    {
     "name": "stdout",
     "output_type": "stream",
     "text": [
      "[11, 49, 7]\n",
      "[21, 5, 8]\n",
      "[3, 6, 9]\n"
     ]
    }
   ],
   "source": [
    "#3.Write a Python Program to Transpose a Matrix?\n",
    "Y = [[91,8,7],[16,51,4],[3,2,1]]\n",
    "resuly_array = [[0,0,0],[0,0,0],[0,0,0]]\n",
    "\n",
    "\n",
    "# iterate through rows\n",
    "for i in range(len(X)):\n",
    "# iterate through columns\n",
    "    for j in range(len(X[0])):\n",
    "        resuly_array[j][i]=X[i][j]\n",
    "\n",
    "for k in resuly_array :\n",
    "    print(k)\n",
    "    \n",
    "\n"
   ]
  },
  {
   "cell_type": "code",
   "execution_count": 21,
   "id": "acdba598",
   "metadata": {},
   "outputs": [
    {
     "name": "stdout",
     "output_type": "stream",
     "text": [
      "The sorted words are:\n",
      "beautiful\n",
      "is\n",
      "nature\n",
      "the\n",
      "very\n"
     ]
    }
   ],
   "source": [
    "#4.Write a Python Program to Sort Words in Alphabetic Order?\n",
    "# Program to sort alphabetically the words form a string provided by the user\n",
    "\n",
    "my_str = \"The Nature is very Beautiful\"\n",
    "\n",
    "# To take input from the user\n",
    "#my_str = input(\"Enter a string: \")\n",
    "\n",
    "# breakdown the string into a list of words\n",
    "words = [word.lower() for word in my_str.split()]\n",
    "\n",
    "# sort the list using sort\n",
    "words.sort()\n",
    "\n",
    "# display the sorted words\n",
    "print(\"The sorted words are:\")\n",
    "for word in words:\n",
    "   print(word)\n"
   ]
  },
  {
   "cell_type": "code",
   "execution_count": 26,
   "id": "83a7e3d6",
   "metadata": {},
   "outputs": [
    {
     "name": "stdout",
     "output_type": "stream",
     "text": [
      "AwesomeThe Nature is very Beautiful isnt it\n"
     ]
    }
   ],
   "source": [
    "#5.Write a Python Program to Remove Punctuation From a String?\n",
    "#str.translate() method. The translate() method typically takes a translation table, \n",
    "#which we’ll do using the .maketrans() method.\n",
    "\n",
    "import string\n",
    "\n",
    "my_str = 'Awesome!!,The Nature is very Beautiful. isnt it?'\n",
    "new_string = my_str.translate(str.maketrans('', '', string.punctuation))\n",
    "\n",
    "print(new_string)"
   ]
  },
  {
   "cell_type": "code",
   "execution_count": null,
   "id": "d9040667",
   "metadata": {},
   "outputs": [],
   "source": []
  }
 ],
 "metadata": {
  "kernelspec": {
   "display_name": "Python 3",
   "language": "python",
   "name": "python3"
  },
  "language_info": {
   "codemirror_mode": {
    "name": "ipython",
    "version": 3
   },
   "file_extension": ".py",
   "mimetype": "text/x-python",
   "name": "python",
   "nbconvert_exporter": "python",
   "pygments_lexer": "ipython3",
   "version": "3.8.8"
  }
 },
 "nbformat": 4,
 "nbformat_minor": 5
}
