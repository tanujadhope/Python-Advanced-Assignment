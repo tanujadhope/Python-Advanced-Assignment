{
 "cells": [
  {
   "cell_type": "markdown",
   "id": "0b0e6e53",
   "metadata": {},
   "source": [
    "### Assignment16 ---submitted by Tanuja Dhope"
   ]
  },
  {
   "cell_type": "markdown",
   "id": "910bcbd1",
   "metadata": {},
   "source": [
    "Question1. Write a function that stutters a word as if someone is struggling to read it. The first two letters are repeated twice with an ellipsis ... and space after each, and then the word is pronounced with a question mark ?."
   ]
  },
  {
   "cell_type": "code",
   "execution_count": 3,
   "id": "d009827e",
   "metadata": {},
   "outputs": [
    {
     "name": "stdout",
     "output_type": "stream",
     "text": [
      "Enter the wordincredible\n",
      "in.....in..... incredible?\n"
     ]
    }
   ],
   "source": [
    "def stutterfn(input_word):\n",
    "    t=input_word[:2]\n",
    "    new=2*(t+\".....\")+\" \"+input_word+'?'\n",
    "    return new\n",
    "\n",
    "input_word=input(\"Enter the word\")\n",
    "new=stutterfn(input_word)\n",
    "\n",
    "print(new)"
   ]
  },
  {
   "cell_type": "markdown",
   "id": "fa15b0f1",
   "metadata": {},
   "source": [
    "Question 2.Create a function that takes an angle in radians and returns the corresponding angle in degrees rounded to one decimal place."
   ]
  },
  {
   "cell_type": "code",
   "execution_count": null,
   "id": "f6ce850c",
   "metadata": {},
   "outputs": [],
   "source": [
    "\n",
    "import math\n",
    "def degree_rad(angle):\n",
    "# Printing radians equivalents.\n",
    "    angle_radian=round((input_angle*math.pi/180),1)\n",
    "    return angle_radian\n",
    "\n",
    "input_angle=float(input(\"Enter the angle in degress:\"))\n",
    "radian1=degree_rad(input_angle)\n",
    "\n",
    "print(\"The degree to radian{} \".format(radian1))\n",
    "\n"
   ]
  },
  {
   "cell_type": "markdown",
   "id": "3a295b31",
   "metadata": {},
   "source": [
    "Question 3. In this challenge, establish if a given integer num is a Curzon number. If 1 plus 2 elevated to num is exactly divisible by 1 plus 2 multiplied by num, then num is a Curzon number."
   ]
  },
  {
   "cell_type": "code",
   "execution_count": 15,
   "id": "b6781e04",
   "metadata": {},
   "outputs": [
    {
     "name": "stdout",
     "output_type": "stream",
     "text": [
      "Yes\n",
      "No\n"
     ]
    }
   ],
   "source": [
    "\n",
    "\n",
    "# Function to check if a number is a Curzon number or not\n",
    "def check_CurzonNumber(N):\n",
    "\n",
    "    powerTerm, productTerm = 0, 0\n",
    "\n",
    "    # Find 2^N + 1\n",
    "    powerTerm = pow(2, N) + 1\n",
    "\n",
    "    # Find 2*N + 1\n",
    "    productTerm = 2 * N + 1\n",
    "\n",
    "    # Check for divisibility\n",
    "    if (powerTerm % productTerm == 0):\n",
    "        print(\"Yes\")\n",
    "    else:\n",
    "        print(\"No\")\n",
    "\n",
    "\n",
    "\n",
    "N = 5\n",
    "check_CurzonNumber(N)\n",
    "N = 10\n",
    "check_CurzonNumber(N)\n",
    "\n"
   ]
  },
  {
   "cell_type": "markdown",
   "id": "27b9c90c",
   "metadata": {},
   "source": [
    "Question 4.Given the side length x find the area of a hexagon."
   ]
  },
  {
   "cell_type": "code",
   "execution_count": 21,
   "id": "d26595fc",
   "metadata": {},
   "outputs": [
    {
     "name": "stdout",
     "output_type": "stream",
     "text": [
      "enter the side length of hexagon3\n",
      "Area of Hexagon is 2.5981 \n"
     ]
    }
   ],
   "source": [
    "import math\n",
    "x=int(input(\"enter the side length of hexagon\"))\n",
    "\n",
    "Area=(3*math.sqrt(3)*(2^x))/2\n",
    "print(\"Area of Hexagon is\",\"{0:.4f} \" .format(Area))"
   ]
  },
  {
   "cell_type": "markdown",
   "id": "179b5539",
   "metadata": {},
   "source": [
    "Question 5. Create a function that returns a base-2 (binary) representation of a base-10 (decimal) string number. To convert is simple: ((2) means base-2 and (10) means base-10) 010101001(2) = 1 + 8 + 32 + 128."
   ]
  },
  {
   "cell_type": "code",
   "execution_count": 25,
   "id": "b985b0eb",
   "metadata": {},
   "outputs": [
    {
     "name": "stdout",
     "output_type": "stream",
     "text": [
      "981\n"
     ]
    }
   ],
   "source": [
    " \n",
    "def binaryToDecimal(binary):\n",
    " \n",
    "    decimal, i = 0, 0\n",
    "    while(binary != 0):\n",
    "        dec = binary % 10\n",
    "        decimal = decimal + dec * pow(2, i)\n",
    "        binary = binary//10   # divide and round to the nearest\n",
    "        i += 1\n",
    "    print(decimal)\n",
    "\n",
    "binary = 1111010101\n",
    "binaryToDecimal(binary)"
   ]
  },
  {
   "cell_type": "code",
   "execution_count": null,
   "id": "a0a21552",
   "metadata": {},
   "outputs": [],
   "source": []
  }
 ],
 "metadata": {
  "kernelspec": {
   "display_name": "Python 3",
   "language": "python",
   "name": "python3"
  },
  "language_info": {
   "codemirror_mode": {
    "name": "ipython",
    "version": 3
   },
   "file_extension": ".py",
   "mimetype": "text/x-python",
   "name": "python",
   "nbconvert_exporter": "python",
   "pygments_lexer": "ipython3",
   "version": "3.8.8"
  }
 },
 "nbformat": 4,
 "nbformat_minor": 5
}
