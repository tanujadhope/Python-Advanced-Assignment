{
 "cells": [
  {
   "cell_type": "code",
   "execution_count": null,
   "id": "a656d070",
   "metadata": {},
   "outputs": [],
   "source": [
    "Assignment18 Submitted by ......Tanuja S.Dhope"
   ]
  },
  {
   "cell_type": "markdown",
   "id": "6387dfe8",
   "metadata": {},
   "source": [
    "Question 1\n",
    "Create a function that takes a list of non-negative integers and strings and return a new list without the strings.\n",
    "Examples\n",
    "filter_list([1, 2, \"a\", \"b\"]) ➞ [1, 2]\n",
    "\n",
    "filter_list([1, \"a\", \"b\", 0, 15]) ➞ [1, 0, 15]\n",
    "\n",
    "filter_list([1, 2, \"aasf\", \"1\", \"123\", 123]) ➞ [1, 2, 123]\n",
    "\n"
   ]
  },
  {
   "cell_type": "code",
   "execution_count": 4,
   "id": "97fd2e79",
   "metadata": {},
   "outputs": [
    {
     "name": "stdout",
     "output_type": "stream",
     "text": [
      "The origininal List is : [1, 2, 6, 7, 8, 'a', 'b', 'j']\n",
      "The filtered list is: [1, 2, 6, 7, 8]\n"
     ]
    }
   ],
   "source": [
    "def filter_list(string1):\n",
    "    new_list=[]\n",
    "    for i in string1:\n",
    "        if type(i)==int:\n",
    "            new_list.append(i)\n",
    "    return new_list\n",
    "\n",
    "result=filter_list([1, 2,6,7,8, \"a\", \"b\",\"j\"])\n",
    "print(\"The origininal List is :\",[1, 2,6,7,8, \"a\", \"b\",\"j\"])\n",
    "print(\"The filtered list is:\",result)"
   ]
  },
  {
   "cell_type": "code",
   "execution_count": null,
   "id": "482cac19",
   "metadata": {},
   "outputs": [],
   "source": [
    "Question 2\n",
    "The \"Reverser\" takes a string as input and returns that string in reverse order, with the opposite case.\n",
    "Examples\n",
    "reverse(\"Hello World\") ➞ \"DLROw OLLEh\"\n",
    "\n",
    "reverse(\"ReVeRsE\") ➞ \"eSrEvEr\"\n",
    "\n",
    "reverse(\"Radar\") ➞ \"RADAr\"\n",
    "\n"
   ]
  },
  {
   "cell_type": "code",
   "execution_count": 6,
   "id": "e3ea0b66",
   "metadata": {},
   "outputs": [
    {
     "name": "stdout",
     "output_type": "stream",
     "text": [
      "Enter the string to be reversed:uhytskls\n",
      "The reversed string is : slkstyhu\n"
     ]
    }
   ],
   "source": [
    "def reverse_string(string1):\n",
    "    string2=string1[::-1]\n",
    "    return string2\n",
    "\n",
    "input_string=input(\"Enter the string to be reversed:\")\n",
    "output_string=reverse_string(input_string)\n",
    "print(\"The reversed string is :\",output_string)"
   ]
  },
  {
   "cell_type": "code",
   "execution_count": null,
   "id": "7cf97a15",
   "metadata": {},
   "outputs": [],
   "source": [
    "Question 3\n",
    "You can assign variables from lists like this:\n",
    "lst = [1, 2, 3, 4, 5, 6]\n",
    "first = lst[0]\n",
    "middle = lst[1:-1]\n",
    "last = lst[-1]\n",
    "\n",
    "print(first) ➞ outputs 1\n",
    "print(middle) ➞ outputs [2, 3, 4, 5]\n",
    "print(last) ➞ outputs 6\n",
    "With Python 3, you can assign variables from lists in a much more succinct way. Create variables first, middle and last from the given list using destructuring assignment (check the Resources tab for some examples), where:\n",
    "first  ➞ 1\n",
    "\n",
    "middle ➞ [2, 3, 4, 5]\n",
    "\n",
    "last ➞ 6\n"
   ]
  },
  {
   "cell_type": "code",
   "execution_count": 7,
   "id": "c3b3f6ac",
   "metadata": {},
   "outputs": [
    {
     "data": {
      "text/plain": [
       "11"
      ]
     },
     "execution_count": 7,
     "metadata": {},
     "output_type": "execute_result"
    }
   ],
   "source": [
    "#destructuring assignment\n",
    "lst = [11, 22, 23, 24, 51, 16]\n",
    "first,*middle,last=lst\n",
    "first\n",
    "\n"
   ]
  },
  {
   "cell_type": "code",
   "execution_count": 8,
   "id": "aa220bd6",
   "metadata": {},
   "outputs": [
    {
     "data": {
      "text/plain": [
       "[22, 23, 24, 51]"
      ]
     },
     "execution_count": 8,
     "metadata": {},
     "output_type": "execute_result"
    }
   ],
   "source": [
    "middle"
   ]
  },
  {
   "cell_type": "code",
   "execution_count": 9,
   "id": "6960cede",
   "metadata": {},
   "outputs": [
    {
     "data": {
      "text/plain": [
       "16"
      ]
     },
     "execution_count": 9,
     "metadata": {},
     "output_type": "execute_result"
    }
   ],
   "source": [
    "last"
   ]
  },
  {
   "cell_type": "code",
   "execution_count": null,
   "id": "5859fa35",
   "metadata": {},
   "outputs": [],
   "source": [
    "Question 4\n",
    "Write a function that calculates the factorial of a number recursively.\n",
    "Examples\n",
    "factorial(5) ➞ 120\n",
    "\n",
    "factorial(3) ➞ 6\n",
    "\n",
    "factorial(1) ➞ 1\n",
    "\n",
    "factorial(0) ➞ 1\n",
    "\n"
   ]
  },
  {
   "cell_type": "code",
   "execution_count": 10,
   "id": "9bb0238d",
   "metadata": {},
   "outputs": [
    {
     "name": "stdout",
     "output_type": "stream",
     "text": [
      "number :  6\n",
      "Factorial :  720\n"
     ]
    }
   ],
   "source": [
    "def factorial(n):\n",
    "     \n",
    "# Checking the number  is 1 or 0 then return 1 other wise return\n",
    "    # factorial\n",
    "    if (n==1 or n==0):\n",
    "        return 1\n",
    "     \n",
    "    else:\n",
    "        return (n * factorial(n - 1))\n",
    "    \n",
    "# Driver Code\n",
    "num = 6;\n",
    "print(\"number : \",num)\n",
    "print(\"Factorial : \",factorial(num)) "
   ]
  },
  {
   "cell_type": "code",
   "execution_count": null,
   "id": "9e634347",
   "metadata": {},
   "outputs": [],
   "source": [
    "Question 5\n",
    "Write a function that moves all elements of one type to the end of the list.\n",
    "Examples\n",
    "move_to_end([1, 3, 2, 4, 4, 1], 1) ➞ [3, 2, 4, 4, 1, 1]\n",
    "# Move all the 1s to the end of the array.\n",
    "\n",
    "move_to_end([7, 8, 9, 1, 2, 3, 4], 9) ➞ [7, 8, 1, 2, 3, 4, 9]\n",
    "\n",
    "move_to_end([\"a\", \"a\", \"a\", \"b\"], \"a\") ➞ [\"b\", \"a\", \"a\", \"a\"]\n",
    "\n"
   ]
  },
  {
   "cell_type": "code",
   "execution_count": 20,
   "id": "fa664642",
   "metadata": {},
   "outputs": [
    {
     "name": "stdout",
     "output_type": "stream",
     "text": [
      "The Original Array is: [71, 18, 19, 11, 12, 23, 41]\n",
      "The element to be moved to the last is: 12\n",
      "71 18 19 11 41 23 12 "
     ]
    }
   ],
   "source": [
    "def move_to_end(arr,tomove):\n",
    "    j=len(arr)-1\n",
    "    i=0\n",
    "    while(i<j):\n",
    "        while(i<j and arr[j]==tomove):\n",
    "            j-=1\n",
    "        if(arr[i]==tomove):\n",
    "            arr[i],arr[j]=arr[j],arr[i]\n",
    "        i+=1\n",
    "    return arr       \n",
    "    \n",
    "    \n",
    "Array = [71,18,19,11,12,23,41]\n",
    "print(\"The Original Array is:\",Array)\n",
    "\n",
    "k = 12\n",
    "print(\"The element to be moved to the last is:\",k)\n",
    "result = move_to_end(Array,k)\n",
    "\n",
    "for i in range(len(Array)):\n",
    "    print(result[i] ,end= \" \")    \n",
    "    \n",
    "    "
   ]
  },
  {
   "cell_type": "code",
   "execution_count": null,
   "id": "e575429a",
   "metadata": {},
   "outputs": [],
   "source": []
  }
 ],
 "metadata": {
  "kernelspec": {
   "display_name": "Python 3",
   "language": "python",
   "name": "python3"
  },
  "language_info": {
   "codemirror_mode": {
    "name": "ipython",
    "version": 3
   },
   "file_extension": ".py",
   "mimetype": "text/x-python",
   "name": "python",
   "nbconvert_exporter": "python",
   "pygments_lexer": "ipython3",
   "version": "3.8.8"
  }
 },
 "nbformat": 4,
 "nbformat_minor": 5
}
