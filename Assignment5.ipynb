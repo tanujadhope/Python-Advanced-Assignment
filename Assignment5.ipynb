{
 "cells": [
  {
   "cell_type": "markdown",
   "id": "cbd1fdf9",
   "metadata": {},
   "source": [
    "### Assignment 5submitted by ----Tanuja S.Dhope\n"
   ]
  },
  {
   "cell_type": "code",
   "execution_count": null,
   "id": "f02e2e7a",
   "metadata": {},
   "outputs": [],
   "source": [
    "1.Write a Python Program to Find LCM?\n",
    "2.Write a Python Program to Find HCF?\n",
    "3.Write a Python Program to Convert Decimal to Binary, Octal and Hexadecimal?\n",
    "4.Write a Python Program To Find ASCII value of a character?\n",
    "5.Write a Python Program to Make a Simple Calculator with 4 basic mathematical operations?\n"
   ]
  },
  {
   "cell_type": "code",
   "execution_count": 2,
   "id": "0092b966",
   "metadata": {},
   "outputs": [
    {
     "name": "stdout",
     "output_type": "stream",
     "text": [
      "Object `LCM` not found.\n",
      "LCM of 15 and 20 is 60\n"
     ]
    }
   ],
   "source": [
    "1.\tWrite a Python Program to Find LCM?\n",
    "# Python program to find LCM of two numbers\n",
    "\n",
    "# Recursive function to return gcd of a and b\n",
    "def gcd(a,b):\n",
    "\tif a == 0:\n",
    "\t\treturn b\n",
    "\treturn gcd(b % a, a)\n",
    "\n",
    "# Function to return LCM of two numbers\n",
    "def lcm(a,b):\n",
    "\treturn (a // gcd(a,b))* b\n",
    "\n",
    "# Driver program to test above function\n",
    "a = 15\n",
    "b = 20\n",
    "print('LCM of', a, 'and', b, 'is', lcm(a, b))\n",
    "\n",
    "# This code is contributed by Danish Raza\n"
   ]
  },
  {
   "cell_type": "code",
   "execution_count": 3,
   "id": "3f5f49f3",
   "metadata": {},
   "outputs": [
    {
     "name": "stdout",
     "output_type": "stream",
     "text": [
      "GCD of 98 and 56 is 14\n"
     ]
    }
   ],
   "source": [
    "#2.\tWrite a Python Program to Find HCF?# Recursive function to return gcd of a and b\n",
    "def gcd(a, b):\n",
    "\n",
    "    # Everything divides 0\n",
    "    if(a == 0 and b == 0):\n",
    "        return 0\n",
    "\n",
    "    if(a == 0):\n",
    "        return b\n",
    "\n",
    "    if(b == 0):\n",
    "        return a\n",
    "\n",
    "    # base case\n",
    "    if(a == b):\n",
    "        return a\n",
    "\n",
    "    # a is greater\n",
    "    if (a > b):\n",
    "        return gcd(a-b, b)\n",
    "    return gcd(a, b-a)\n",
    "\n",
    "# Driver program to test above function\n",
    "a = 98\n",
    "b = 56\n",
    "if(gcd(a, b)):\n",
    "    print('GCD of', a, 'and', b, 'is', gcd(a, b))\n",
    "else:\n",
    "    print('not found')\n",
    "\n",
    "# This code is contributed by Danish Raza\n"
   ]
  },
  {
   "cell_type": "code",
   "execution_count": 4,
   "id": "b39d5602",
   "metadata": {},
   "outputs": [
    {
     "name": "stdout",
     "output_type": "stream",
     "text": [
      "0b11011 in binary.\n",
      "0o33 in octal.\n",
      "0x1b in hexadecimal.\n"
     ]
    }
   ],
   "source": [
    "#3.\tWrite a Python Program to Convert Decimal to Binary, Octal and Hexadecimal?\n",
    "decimal = 27\n",
    "\n",
    "print(bin(decimal),\"in binary.\")\n",
    "print(oct(decimal),\"in octal.\")\n",
    "print(hex(decimal),\"in hexadecimal.\")"
   ]
  },
  {
   "cell_type": "code",
   "execution_count": 5,
   "id": "684dc076",
   "metadata": {},
   "outputs": [
    {
     "name": "stdout",
     "output_type": "stream",
     "text": [
      "Please enter any Character  :  f\n",
      "The ASCII Value = 102\n"
     ]
    }
   ],
   "source": [
    "#4.\tWrite a Python Program To Find ASCII value of a character?\n",
    "ch = input(\"Please enter any Character  :  \")\n",
    "\n",
    "print(\"The ASCII Value = %d\" %ord(ch[0]))"
   ]
  },
  {
   "cell_type": "code",
   "execution_count": 7,
   "id": "e11977c9",
   "metadata": {},
   "outputs": [
    {
     "name": "stdout",
     "output_type": "stream",
     "text": [
      "Select operation.\n",
      "1.Add\n",
      "2.Subtract\n",
      "3.Multiply\n",
      "4.Divide\n",
      "Enter choice(1/2/3/4): 1\n",
      "Enter first number: 34\n",
      "Enter second number: 67\n",
      "34.0 + 67.0 = 101.0\n",
      "Let's do next calculation? (yes/no): yes\n",
      "Enter choice(1/2/3/4): 4\n",
      "Enter first number: 45\n",
      "Enter second number: 98\n",
      "45.0 / 98.0 = 0.45918367346938777\n",
      "Let's do next calculation? (yes/no): y\n",
      "Enter choice(1/2/3/4): 2\n",
      "Enter first number: 76\n",
      "Enter second number: 54\n",
      "76.0 - 54.0 = 22.0\n",
      "Let's do next calculation? (yes/no): y\n",
      "Enter choice(1/2/3/4): 3\n",
      "Enter first number: 76\n",
      "Enter second number: 43\n",
      "76.0 * 43.0 = 3268.0\n",
      "Let's do next calculation? (yes/no): no\n"
     ]
    }
   ],
   "source": [
    "#5.\tWrite a Python Program to Make a Simple Calculator with 4 basic mathematical operations?\n",
    "# Program make a simple calculator\n",
    "\n",
    "# This function adds two numbers\n",
    "def add(x, y):\n",
    "    return x + y\n",
    "\n",
    "# This function subtracts two numbers\n",
    "def subtract(x, y):\n",
    "    return x - y\n",
    "\n",
    "# This function multiplies two numbers\n",
    "def multiply(x, y):\n",
    "    return x * y\n",
    "\n",
    "# This function divides two numbers\n",
    "def divide(x, y):\n",
    "    return x / y\n",
    "\n",
    "\n",
    "print(\"Select operation.\")\n",
    "print(\"1.Add\")\n",
    "print(\"2.Subtract\")\n",
    "print(\"3.Multiply\")\n",
    "print(\"4.Divide\")\n",
    "\n",
    "while True:\n",
    "    # take input from the user\n",
    "    choice = input(\"Enter choice(1/2/3/4): \")\n",
    "\n",
    "    # check if choice is one of the four options\n",
    "    if choice in ('1', '2', '3', '4'):\n",
    "        num1 = float(input(\"Enter first number: \"))\n",
    "        num2 = float(input(\"Enter second number: \"))\n",
    "\n",
    "        if choice == '1':\n",
    "            print(num1, \"+\", num2, \"=\", add(num1, num2))\n",
    "\n",
    "        elif choice == '2':\n",
    "            print(num1, \"-\", num2, \"=\", subtract(num1, num2))\n",
    "\n",
    "        elif choice == '3':\n",
    "            print(num1, \"*\", num2, \"=\", multiply(num1, num2))\n",
    "\n",
    "        elif choice == '4':\n",
    "            print(num1, \"/\", num2, \"=\", divide(num1, num2))\n",
    "        \n",
    "        # check if user wants another calculation\n",
    "        # break the while loop if answer is no\n",
    "        next_calculation = input(\"Let's do next calculation? (yes/no): \")\n",
    "        if next_calculation == \"no\":\n",
    "          break\n",
    "    \n",
    "    else:\n",
    "        print(\"Invalid Input\")"
   ]
  },
  {
   "cell_type": "code",
   "execution_count": null,
   "id": "4e12879c",
   "metadata": {},
   "outputs": [],
   "source": []
  }
 ],
 "metadata": {
  "kernelspec": {
   "display_name": "Python 3",
   "language": "python",
   "name": "python3"
  },
  "language_info": {
   "codemirror_mode": {
    "name": "ipython",
    "version": 3
   },
   "file_extension": ".py",
   "mimetype": "text/x-python",
   "name": "python",
   "nbconvert_exporter": "python",
   "pygments_lexer": "ipython3",
   "version": "3.8.8"
  }
 },
 "nbformat": 4,
 "nbformat_minor": 5
}
