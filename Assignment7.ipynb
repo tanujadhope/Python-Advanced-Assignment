{
 "cells": [
  {
   "cell_type": "markdown",
   "id": "33105f03",
   "metadata": {},
   "source": [
    "### Assignment 7 Submitted by .... Tanuja Satish Dhope"
   ]
  },
  {
   "cell_type": "code",
   "execution_count": null,
   "id": "ee16eded",
   "metadata": {},
   "outputs": [],
   "source": [
    "1.Write a Python Program to find sum of array?\n",
    "2.Write a Python Program to find largest element in an array?\n",
    "3.Write a Python Program for array rotation?\n",
    "4.Write a Python Program to Split the array and add the first part to the end?\n",
    "5.Write a Python Program to check if given array is Monotonic?\n"
   ]
  },
  {
   "cell_type": "code",
   "execution_count": 1,
   "id": "d46ab20f",
   "metadata": {},
   "outputs": [
    {
     "name": "stdout",
     "output_type": "stream",
     "text": [
      "Sum :  15\n"
     ]
    }
   ],
   "source": [
    "#1.Write a Python Program to find sum of array?\n",
    "array1 = [1,2,3,4,5]\n",
    "sum=0\n",
    "for i in range (len(array1)):\n",
    "    sum+=array1[i]\n",
    "print(\"Sum : \",sum)"
   ]
  },
  {
   "cell_type": "code",
   "execution_count": 2,
   "id": "fc511f22",
   "metadata": {},
   "outputs": [
    {
     "name": "stdout",
     "output_type": "stream",
     "text": [
      "Largest in given array  5123\n"
     ]
    }
   ],
   "source": [
    "#2.Write a Python Program to find largest element in an array?\n",
    "# python function to find maximum\n",
    "# in arr1[] of size n\n",
    " \n",
    " \n",
    "def largest(arr1, n):\n",
    " \n",
    "    # Initialize maximum element\n",
    "    max = arr1[0]\n",
    " \n",
    " # Traverse array elements from second and compare every element with current max\n",
    "   \n",
    "    for i in range(1,n):\n",
    "        if arr1[i]>max:\n",
    "            max = arr1[i]\n",
    "    return max\n",
    " \n",
    " \n",
    "# Driver Code\n",
    "arr = [11, 24, 86, 0, 98,8,324,5123]\n",
    "n = len(arr)\n",
    "Ans = largest(arr, n)\n",
    "print(\"Largest in given array \", Ans)"
   ]
  },
  {
   "cell_type": "code",
   "execution_count": 4,
   "id": "7b76fa91",
   "metadata": {},
   "outputs": [
    {
     "name": "stdout",
     "output_type": "stream",
     "text": [
      "Array after left rotation is:  [34, 71, 82, 98, 100, 2, 22, 11]\n"
     ]
    }
   ],
   "source": [
    "#3.Write a Python Program for array rotation?\n",
    "# function to rotate array by a elements using temp array\n",
    "def rotateArray(arr, n, a):\n",
    "    temp = []\n",
    "    j = 0\n",
    "    while (j < a):\n",
    "        temp.append(arr[j])\n",
    "        j= j + 1\n",
    "    j = 0\n",
    "    while (a < n):\n",
    "        arr[j] = arr[a]\n",
    "        j = j + 1\n",
    "        a = a + 1\n",
    "    arr[:] = arr[: j] + temp\n",
    "    return arr\n",
    " \n",
    "arr = [22,11,34,71,82,98,100,2]\n",
    "print(\"Array after left rotation is: \", end=' ')\n",
    "print(rotateArray(arr, len(arr), 2))"
   ]
  },
  {
   "cell_type": "code",
   "execution_count": 19,
   "id": "31d0f5da",
   "metadata": {},
   "outputs": [
    {
     "name": "stdout",
     "output_type": "stream",
     "text": [
      "Orignal array [52, 24, 78, 10, 9, 26, 23]\n",
      "Modified Array [10, 9, 26, 23, 52, 24, 78]\n"
     ]
    }
   ],
   "source": [
    "#4.Write a Python Program to Split the array and add the first part to the end?\n",
    "# Python program to split array and move first\n",
    "# part to end.\n",
    "def split_Arr(arr1, n, k):\n",
    "    b = arr1[:k]\n",
    "    return (arr1[k::]+b[::])\n",
    "\n",
    "# main\n",
    "arr1 = [52,24,78,10,9,26,23]\n",
    "print('Orignal array',arr1)\n",
    "length= len(arr1)\n",
    "split_num = 3\n",
    "\n",
    "Arr2=split_Arr(arr1,length,split_num)\n",
    "print ('Modified Array',Arr2)   \n",
    "\n",
    "\n"
   ]
  },
  {
   "cell_type": "code",
   "execution_count": 21,
   "id": "b518e4d9",
   "metadata": {},
   "outputs": [
    {
     "name": "stdout",
     "output_type": "stream",
     "text": [
      "True\n"
     ]
    }
   ],
   "source": [
    "#5.Write a Python Program to check if given array is Monotonic?\n",
    "# Python Program to check if given array is Monotonic incresing or decreasing\n",
    "## To check whether an array A is monotone increasing, we’ll check A[i] <= A[i+1] for all i indexing from 0 to len(A)-2.\n",
    "## Similarly we can check for monotone decreasing where A[i] >= A[i+1] for all i indexing from 0 to len(A)-2. \n",
    " \n",
    "# Check if given array is Monotonic\n",
    " \n",
    " \n",
    "def is_Monotonic(Array):\n",
    "    return (all(Array[i] <= Array[i + 1] for i in range(len(A) - 1)) or\n",
    "            all(Array[i] >= A[i + 1] for i in range(len(A) - 1)))\n",
    " \n",
    "A = [7,8,9,10,11,23,34]\n",
    " \n",
    "# Print required result\n",
    "print(is_Monotonic(A))"
   ]
  },
  {
   "cell_type": "code",
   "execution_count": null,
   "id": "13f4fe7d",
   "metadata": {},
   "outputs": [],
   "source": []
  }
 ],
 "metadata": {
  "kernelspec": {
   "display_name": "Python 3",
   "language": "python",
   "name": "python3"
  },
  "language_info": {
   "codemirror_mode": {
    "name": "ipython",
    "version": 3
   },
   "file_extension": ".py",
   "mimetype": "text/x-python",
   "name": "python",
   "nbconvert_exporter": "python",
   "pygments_lexer": "ipython3",
   "version": "3.8.8"
  }
 },
 "nbformat": 4,
 "nbformat_minor": 5
}
