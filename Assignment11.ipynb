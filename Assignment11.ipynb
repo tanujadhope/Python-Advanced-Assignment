{
 "cells": [
  {
   "cell_type": "markdown",
   "id": "0d1efbda",
   "metadata": {},
   "source": [
    "### Assignmentt 11 Submitted by ____Tanuja Dhope"
   ]
  },
  {
   "cell_type": "markdown",
   "id": "20567420",
   "metadata": {},
   "source": [
    "1.Write a Python program to find words which are greater than given length k?\n",
    "2.Write a Python program for removing i-th character from a string?\n",
    "3.Write a Python program to split and join a string?\n",
    "4.Write a Python to check if a given string is binary string or not?\n",
    "5.Write a Python program to find uncommon words from two Strings?\n",
    "6.Write a Python to find all duplicate characters in string?\n",
    "7.Write a Python Program to check if a string contains any special character?\n"
   ]
  },
  {
   "cell_type": "code",
   "execution_count": 2,
   "id": "1c0364aa",
   "metadata": {},
   "outputs": [
    {
     "name": "stdout",
     "output_type": "stream",
     "text": [
      "['Beautiful']\n"
     ]
    }
   ],
   "source": [
    "#1.Write a Python program to find words which are greater than given length k?\n",
    "\n",
    "# Python program to find all string\n",
    "# which are greater than given length k\n",
    "\n",
    "# function find string greater than length k\n",
    "def string_k(k, str):\n",
    "# create the empty string\n",
    "    temp_string = []\n",
    "\n",
    "# split the string where space is comes\n",
    "    txt=str.split(\" \")\n",
    "# iterate the loop till every substring\n",
    "    for j in txt:\n",
    "        if len(j) >k:    # if length of current sub string is greater than k then\n",
    "            temp_string.append(j) # append this sub string in string lis      \n",
    "# return string list\n",
    "    return temp_string\n",
    "\n",
    "\n",
    "###program\n",
    "k = 5\n",
    "str =\"The word is very Beautiful\"\n",
    "print(string_k(k, str))\n"
   ]
  },
  {
   "cell_type": "code",
   "execution_count": 3,
   "id": "4312ceb0",
   "metadata": {},
   "outputs": [
    {
     "name": "stdout",
     "output_type": "stream",
     "text": [
      " Original String The word is very Beautiful\n",
      "String after removing 5 character is:  The wrd is very Beautiful\n"
     ]
    }
   ],
   "source": [
    "#2.Write a Python program for removing i-th character from a string?\n",
    "def charc_remove(i,str):\n",
    "    a=str[:i]\n",
    "    b=str[i+1:]\n",
    "    return a+b\n",
    "    \n",
    "i = 5\n",
    "str =\"The word is very Beautiful\"\n",
    "print(\" Original String\",str)\n",
    "print(\"String after removing {0} character is: \".format(i) ,charc_remove(i, str))"
   ]
  },
  {
   "cell_type": "code",
   "execution_count": 4,
   "id": "15297bf9",
   "metadata": {},
   "outputs": [
    {
     "name": "stdout",
     "output_type": "stream",
     "text": [
      "['The', 'word', 'is', 'very', 'Beautiful']\n",
      "The-word-is-very-Beautiful\n"
     ]
    }
   ],
   "source": [
    "#3.Write a Python program to split and join a string?\n",
    "\n",
    "# Python program to split a string and\n",
    "# join it using different delimiter\n",
    "\n",
    "def split_string(string):\n",
    "# Split the string based on space delimiter\n",
    "    list_string = string.split(' ')\n",
    "    return list_string\n",
    "\n",
    "def join_string(list_string):\n",
    "    # Join the string based on '-' delimiter\n",
    "    string = '-'.join(list_string)\n",
    "    return string\n",
    "\n",
    "\n",
    "str =\"The word is very Beautiful\"\n",
    "    # Splitting a string\n",
    "list_string = split_string(str)\n",
    "print(list_string)\n",
    "\n",
    "    # Join list of strings into one\n",
    "new_string = join_string(list_string)\n",
    "print(new_string)\n"
   ]
  },
  {
   "cell_type": "code",
   "execution_count": 5,
   "id": "13b6d379",
   "metadata": {},
   "outputs": [
    {
     "name": "stdout",
     "output_type": "stream",
     "text": [
      "No\n"
     ]
    }
   ],
   "source": [
    "#4.Write a Python to check if a given string is binary string or not?\n",
    "\n",
    "def check2(string):\n",
    "\n",
    "# initialize the variable temp with '01' string\n",
    "    temp = '01'\n",
    "\n",
    "# initialize the variable count# with 0 value\n",
    "    count = 0\n",
    "\n",
    "    # looping through each character# of the string .\n",
    "    for char in string:\n",
    "        if char not in temp:\n",
    "            count = 1\n",
    "            break\n",
    "        else:\n",
    "            pass\n",
    "    if count:\n",
    "        print(\"No\")\n",
    "    else:\n",
    "        print(\"Yes\")\n",
    "\n",
    "string = \"001021010001010\"\n",
    "# function calling\n",
    "check2(string)\n",
    "\n"
   ]
  },
  {
   "cell_type": "code",
   "execution_count": 6,
   "id": "b0ec57a0",
   "metadata": {},
   "outputs": [
    {
     "name": "stdout",
     "output_type": "stream",
     "text": [
      "The string1 Man is driving car\n",
      "The srting 2 The baby is walking\n",
      "The uncommon words in the above 2 strings are:\n",
      "['The', 'baby', 'walking', 'driving', 'car', 'Man']\n"
     ]
    }
   ],
   "source": [
    "##5.Write a Python program to find uncommon words from two Strings?\n",
    "# Python3 program to find a list of uncommon words\n",
    "\n",
    "# Function to return all uncommon words\n",
    "def UncommonWords(A, B):\n",
    "    A=A.split()\n",
    "    B=B.split()\n",
    "    x=[]\n",
    "    for i in A:\n",
    "        if i not in B:\n",
    "            x.append(i)\n",
    "    for i in B:\n",
    "        if i not in A:\n",
    "            x.append(i)\n",
    "    x=list(set(x))\n",
    "    return x\n",
    "\n",
    "\n",
    "\n",
    "A = \"Man is driving car\"\n",
    "B = \"The baby is walking\"\n",
    "print(\"The string1\",A)\n",
    "print(\"The srting 2\",B)\n",
    "print(\"The uncommon words in the above 2 strings are:\")\n",
    "# Print required answer\n",
    "print(UncommonWords(A, B))\n"
   ]
  },
  {
   "cell_type": "code",
   "execution_count": 7,
   "id": "d1cc5a7e",
   "metadata": {},
   "outputs": [
    {
     "name": "stdout",
     "output_type": "stream",
     "text": [
      "All the duplicate characters in the string are: \n",
      "e  -  2\n",
      "l  -  2\n",
      "o  -  3\n",
      "m  -  2\n",
      "o  -  2\n",
      "i  -  2\n",
      "a  -  2\n"
     ]
    }
   ],
   "source": [
    "\n",
    "#6.Write a Python to find all duplicate characters in string?\n",
    "string = \"Welcome to Dinosaur family\";\n",
    "print(\"All the duplicate characters in the string are: \"); \n",
    "# Counting every characters of the string \n",
    "for t in range(0, len(string)):\n",
    "    count = 1 \n",
    "    for j in range(t+1, len(string)):\n",
    "        if(string[t] == string[j] and string[t] != ' '): \n",
    "            count = count + 1 \n",
    "# setting the string t to 0 to avoid printing the characters already taken \n",
    "    string = string[:j] + '0' + string[j+1:]; \n",
    "# If the count is greater than 1, the character is considered as duplicate \n",
    "    if(count > 1 and string[t] != '0'): \n",
    "        print(string[t],\" - \",count);"
   ]
  },
  {
   "cell_type": "code",
   "execution_count": 8,
   "id": "b3151a37",
   "metadata": {},
   "outputs": [
    {
     "name": "stdout",
     "output_type": "stream",
     "text": [
      "string is not accepted\n"
     ]
    }
   ],
   "source": [
    "#7.Write a Python Program to check if a string contains any special character?\n",
    "# input string\n",
    "n=\"The wind is blowing $<> WoW**\"\n",
    "n.split()\n",
    "c=0\n",
    "s='[@_!#$%^&*()<>?/\\|}{~:]' # special character set\n",
    "for i in range(len(n)):\n",
    "    # checking if any special character is present in given string or not\n",
    "    if n[i] in s:\n",
    "        c+=1 # if special character found then add 1 to the c\n",
    "if c:\n",
    "    print(\"string is not accepted\")\n",
    "else:\n",
    "    print(\"string accepted\")\n",
    "\n",
    "\n"
   ]
  },
  {
   "cell_type": "code",
   "execution_count": null,
   "id": "3e8a7a73",
   "metadata": {},
   "outputs": [],
   "source": []
  }
 ],
 "metadata": {
  "kernelspec": {
   "display_name": "Python 3",
   "language": "python",
   "name": "python3"
  },
  "language_info": {
   "codemirror_mode": {
    "name": "ipython",
    "version": 3
   },
   "file_extension": ".py",
   "mimetype": "text/x-python",
   "name": "python",
   "nbconvert_exporter": "python",
   "pygments_lexer": "ipython3",
   "version": "3.8.8"
  }
 },
 "nbformat": 4,
 "nbformat_minor": 5
}
