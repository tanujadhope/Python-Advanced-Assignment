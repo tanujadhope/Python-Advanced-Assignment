{
 "cells": [
  {
   "cell_type": "markdown",
   "id": "2c4275e6",
   "metadata": {},
   "source": [
    "### Assignmnet 4 submitted by ----Tanuja S.Dhope"
   ]
  },
  {
   "cell_type": "markdown",
   "id": "9e7e25ec",
   "metadata": {},
   "source": [
    "1.Write a Python Program to Find the Factorial of a Number?\n",
    "2.Write a Python Program to Display the multiplication Table?\n",
    "3.Write a Python Program to Print the Fibonacci sequence?\n",
    "4.Write a Python Program to Check Armstrong Number?\n",
    "5.Write a Python Program to Find Armstrong Number in an Interval?\n",
    "6.Write a Python Program to Find the Sum of Natural Numbers?\n"
   ]
  },
  {
   "cell_type": "code",
   "execution_count": 5,
   "id": "a157dba9",
   "metadata": {},
   "outputs": [
    {
     "name": "stdout",
     "output_type": "stream",
     "text": [
      "Enter a number: 5\n",
      "The factorial of 5 is 120\n"
     ]
    }
   ],
   "source": [
    "#1.Write a Python Program to Find the Factorial of a Number?\n",
    "# To take input from the user\n",
    "num = int(input(\"Enter a number: \"))\n",
    "\n",
    "factorial = 1\n",
    "\n",
    "# check if the number is negative, positive or zero\n",
    "if num < 0:\n",
    "   print(\"Sorry, factorial does not exist for negative numbers\")\n",
    "elif num == 0:\n",
    "   print(\"The factorial of 0 is 1\")\n",
    "else:\n",
    "   for i in range(1,num + 1):\n",
    "    factorial = factorial*i\n",
    "   print(\"The factorial of\",num,\"is\",factorial)\n",
    "\n"
   ]
  },
  {
   "cell_type": "code",
   "execution_count": 6,
   "id": "c24ae892",
   "metadata": {},
   "outputs": [
    {
     "name": "stdout",
     "output_type": "stream",
     "text": [
      "Show the multiplication table of? 8\n",
      "8 x 1 = 8\n",
      "8 x 2 = 16\n",
      "8 x 3 = 24\n",
      "8 x 4 = 32\n",
      "8 x 5 = 40\n",
      "8 x 6 = 48\n",
      "8 x 7 = 56\n",
      "8 x 8 = 64\n",
      "8 x 9 = 72\n",
      "8 x 10 = 80\n"
     ]
    }
   ],
   "source": [
    "#2.Write a Python Program to Display the multiplication Table?\n",
    "num = int(input(\"Show the multiplication table of? \"))\n",
    "# using for loop to iterate multiplication 10 times \n",
    "for i in range(1,11):\n",
    "   print(num,'x',i,'=',num*i)"
   ]
  },
  {
   "cell_type": "code",
   "execution_count": 7,
   "id": "71222998",
   "metadata": {},
   "outputs": [
    {
     "name": "stdout",
     "output_type": "stream",
     "text": [
      " Enter the number for Fibonacci sequence: 10\n",
      "Fibonacci sequence:\n",
      "0\n",
      "1\n",
      "1\n",
      "2\n",
      "3\n",
      "5\n",
      "8\n",
      "13\n",
      "21\n",
      "34\n"
     ]
    }
   ],
   "source": [
    "#3.Write a Python Program to Print the Fibonacci sequence?\n",
    "# Python program to display the Fibonacci sequence\n",
    "\n",
    "def recur_fibo(n):\n",
    "   if n <= 1:\n",
    "       return n\n",
    "   else:\n",
    "       return(recur_fibo(n-1) + recur_fibo(n-2))\n",
    "\n",
    "nterms = int(input(\" Enter the number for Fibonacci sequence: \"))\n",
    "\n",
    "# check if the number of terms is valid\n",
    "if nterms <= 0:\n",
    "   print(\"Plese enter a positive integer\")\n",
    "else:\n",
    "   print(\"Fibonacci sequence:\")\n",
    "   for i in range(nterms):\n",
    "       print(recur_fibo(i))\n"
   ]
  },
  {
   "cell_type": "code",
   "execution_count": 16,
   "id": "2c44cf53",
   "metadata": {},
   "outputs": [
    {
     "name": "stdout",
     "output_type": "stream",
     "text": [
      "Enter a number: 403\n",
      "403 is not an Armstrong number\n"
     ]
    }
   ],
   "source": [
    "#4.Write a Python Program to Check Armstrong Number?\n",
    "\n",
    "###In case of an Armstrong number of 3 digits, the sum of cubes of each digit is equal to the number itself\n",
    "\n",
    "# Python program to check if the number is an Armstrong number or not\n",
    "\n",
    "# take input from the user\n",
    "number = int(input(\"Enter a number: \"))\n",
    " # order of number\n",
    "order = len(str(number))\n",
    "# initialize sum\n",
    "sum = 0\n",
    "\n",
    "# find the sum of the cube of each digit\n",
    "temp = number\n",
    "while temp > 0:\n",
    "   digit = temp % 10\n",
    "   sum += digit ** order\n",
    "   temp //= 10\n",
    "\n",
    "# display the result\n",
    "if number == sum:\n",
    "   print(number,\"is an Armstrong number\")\n",
    "else:\n",
    "   print(number,\"is not an Armstrong number\")"
   ]
  },
  {
   "cell_type": "code",
   "execution_count": 17,
   "id": "645ba10d",
   "metadata": {},
   "outputs": [
    {
     "name": "stdout",
     "output_type": "stream",
     "text": [
      "153\n",
      "370\n",
      "371\n",
      "407\n",
      "1634\n"
     ]
    }
   ],
   "source": [
    "##5.Write a Python Program to Find Armstrong Number in an Interval?\n",
    "\n",
    "# Program to check Armstrong numbers in a certain interval\n",
    "\n",
    "lowerlimit = 101\n",
    "upperlimit = 3000\n",
    "\n",
    "for number in range(lowerlimit, upperlimit + 1):\n",
    "    # order of number\n",
    "    order = len(str(number))\n",
    "    # initialize sum\n",
    "    sum = 0\n",
    "    temp = number\n",
    "    while temp > 0:\n",
    "        digit = temp % 10 ## extract each digit \n",
    "        sum += digit ** order\n",
    "        temp //= 10\n",
    "    if number == sum:\n",
    "        print(number)"
   ]
  },
  {
   "cell_type": "code",
   "execution_count": 18,
   "id": "01e73fdb",
   "metadata": {},
   "outputs": [
    {
     "name": "stdout",
     "output_type": "stream",
     "text": [
      "The sum is 153\n"
     ]
    }
   ],
   "source": [
    "#6.Write a Python Program to Find the Sum of Natural Numbers?\n",
    "# Sum of natural numbers up to num\n",
    "\n",
    "number = 17\n",
    "\n",
    "if number < 0:\n",
    "    print(\"Enter a positive number\")\n",
    "else:\n",
    "     sum = 0\n",
    "   # use while loop to iterate until zero\n",
    "     while(number>0):\n",
    "        sum+=number\n",
    "        number-=1\n",
    "print(\"The sum is\", sum)\n"
   ]
  },
  {
   "cell_type": "code",
   "execution_count": null,
   "id": "6e24e69f",
   "metadata": {},
   "outputs": [],
   "source": []
  }
 ],
 "metadata": {
  "kernelspec": {
   "display_name": "Python 3",
   "language": "python",
   "name": "python3"
  },
  "language_info": {
   "codemirror_mode": {
    "name": "ipython",
    "version": 3
   },
   "file_extension": ".py",
   "mimetype": "text/x-python",
   "name": "python",
   "nbconvert_exporter": "python",
   "pygments_lexer": "ipython3",
   "version": "3.8.8"
  }
 },
 "nbformat": 4,
 "nbformat_minor": 5
}
