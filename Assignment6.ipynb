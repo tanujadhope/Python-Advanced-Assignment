{
 "cells": [
  {
   "cell_type": "markdown",
   "id": "35e852e0",
   "metadata": {},
   "source": [
    "### Assignment 6 Submitted by .... Tanuja Satish Dhope"
   ]
  },
  {
   "cell_type": "code",
   "execution_count": null,
   "id": "2fd0fc52",
   "metadata": {},
   "outputs": [],
   "source": [
    "1.Write a Python Program to Display Fibonacci Sequence Using Recursion?\n",
    "2.Write a Python Program to Find Factorial of Number Using Recursion?\n",
    "3.Write a Python Program to calculate your Body Mass Index?\n",
    "4.Write a Python Program to calculate the natural logarithm of any number?\n",
    "5.Write a Python Program for cube sum of first n natural numbers?\n"
   ]
  },
  {
   "cell_type": "code",
   "execution_count": 5,
   "id": "734675cb",
   "metadata": {},
   "outputs": [
    {
     "name": "stdout",
     "output_type": "stream",
     "text": [
      "enter the number23\n",
      "The fibonacci sequence is :\n",
      "0\n",
      "1\n",
      "1\n",
      "2\n",
      "3\n",
      "5\n",
      "8\n",
      "13\n",
      "21\n",
      "34\n",
      "55\n",
      "89\n",
      "144\n",
      "233\n",
      "377\n",
      "610\n",
      "987\n",
      "1597\n",
      "2584\n",
      "4181\n",
      "6765\n",
      "10946\n",
      "17711\n"
     ]
    }
   ],
   "source": [
    "##1.Write a Python Program to Display Fibonacci Sequence Using Recursion?\n",
    "##\n",
    "def fibonacci_recursion(value):\n",
    "    if value<= 1:\n",
    "        return value\n",
    "    else:\n",
    "        return(fibonacci_recursion(value-1) + fibonacci_recursion(value-2))\n",
    "\n",
    "number = int(input('enter the number'))\n",
    "\n",
    "if number  <= 0:\n",
    "   print(\"Enter a positive integer\")\n",
    "else:\n",
    "   print(\"The fibonacci sequence is :\")\n",
    "   for i in range(number):\n",
    "        print(fibonacci_recursion(i))"
   ]
  },
  {
   "cell_type": "code",
   "execution_count": 4,
   "id": "83722fb5",
   "metadata": {},
   "outputs": [
    {
     "name": "stdout",
     "output_type": "stream",
     "text": [
      "enter the number23\n",
      "The factorial of 23 is 25852016738884976640000\n"
     ]
    }
   ],
   "source": [
    "###2.Write a Python Program to Find Factorial of Number Using Recursion?\n",
    "def factorial_recur(n):\n",
    "    if n == 1:\n",
    "        return n\n",
    "    else:\n",
    "        return n*factorial_recur(n-1)\n",
    "\n",
    "num =int(input('enter the number'))\n",
    "\n",
    "# check if the number is negative\n",
    "if num < 0:\n",
    "    print(\"Sorry, factorial does not exist for negative numbers\")\n",
    "elif num == 0:\n",
    "    print(\"The factorial of 0 is 1\")\n",
    "else:\n",
    "    print(\"The factorial of\", num, \"is\", factorial_recur(num))"
   ]
  },
  {
   "cell_type": "code",
   "execution_count": 10,
   "id": "140b1b2f",
   "metadata": {},
   "outputs": [
    {
     "name": "stdout",
     "output_type": "stream",
     "text": [
      "Input your height in Feet: 5.6\n",
      "Input your weight in Kilogram: 67\n",
      "Your body mass index is:  2.14\n"
     ]
    }
   ],
   "source": [
    "##3.Write a Python Program to calculate your Body Mass Index?\n",
    "height = float(input(\"Input your height in Feet: \"))\n",
    "weight = float(input(\"Input your weight in Kilogram: \"))\n",
    "print(\"Your body mass index is: \", round(weight / (height * height), 2))"
   ]
  },
  {
   "cell_type": "code",
   "execution_count": 7,
   "id": "f78fb82d",
   "metadata": {},
   "outputs": [
    {
     "name": "stdout",
     "output_type": "stream",
     "text": [
      "enter the number23\n",
      "3.1354942159291497\n"
     ]
    }
   ],
   "source": [
    "##4.Write a Python Program to calculate the natural logarithm of any number?\n",
    "# Calculate the natural log in Python with math.log\n",
    "import math\n",
    "\n",
    "\n",
    "num =int(input('enter the number'))\n",
    "print(math.log(num))\n"
   ]
  },
  {
   "cell_type": "code",
   "execution_count": 9,
   "id": "51e181c8",
   "metadata": {},
   "outputs": [
    {
     "name": "stdout",
     "output_type": "stream",
     "text": [
      "14400\n"
     ]
    }
   ],
   "source": [
    "##5.Write a Python Program for cube sum of first n natural numbers?\n",
    "def sum_series(n):\n",
    "    sum = 0\n",
    "    \n",
    "    for i in range(1, n+1):\n",
    "        sum +=i*i*i\n",
    "    return sum\n",
    "# Driver Function\n",
    "num = 15\n",
    "print(sum_series(num))"
   ]
  }
 ],
 "metadata": {
  "kernelspec": {
   "display_name": "Python 3",
   "language": "python",
   "name": "python3"
  },
  "language_info": {
   "codemirror_mode": {
    "name": "ipython",
    "version": 3
   },
   "file_extension": ".py",
   "mimetype": "text/x-python",
   "name": "python",
   "nbconvert_exporter": "python",
   "pygments_lexer": "ipython3",
   "version": "3.8.8"
  }
 },
 "nbformat": 4,
 "nbformat_minor": 5
}
