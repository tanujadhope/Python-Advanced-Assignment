{
 "cells": [
  {
   "cell_type": "markdown",
   "id": "08f84533",
   "metadata": {},
   "source": [
    "Question1\n",
    "Write a function that takes a list and a number as arguments. Add the number to the end of the list, then remove the first element of the list. The function should then return the updated list.\n",
    "Examples\n",
    "next_in_line([5, 6, 7, 8, 9], 1) ➞ [6, 7, 8, 9, 1]\n",
    "\n",
    "next_in_line([7, 6, 3, 23, 17], 10) ➞ [6, 3, 23, 17, 10]\n",
    "\n",
    "next_in_line([1, 10, 20, 42 ], 6) ➞ [10, 20, 42, 6]\n",
    "\n",
    "next_in_line([], 6) ➞ \"No list has been selected\"\n",
    "\n"
   ]
  },
  {
   "cell_type": "code",
   "execution_count": 8,
   "id": "ad8bef07",
   "metadata": {},
   "outputs": [
    {
     "name": "stdout",
     "output_type": "stream",
     "text": [
      "The updated list is [6, 3, 23, 17, 19]\n",
      "The updated list is [11, 20, 42, 10]\n",
      "No list has been selected\n"
     ]
    }
   ],
   "source": [
    "def next_in_line(list,n):\n",
    "    new_list=[]\n",
    "    if len(list) > 0 :\n",
    "        for i in range(1,len(list)):\n",
    "            new_list.append(list[i])\n",
    "        new_list.append(n)\n",
    "        return new_list    \n",
    "    else:\n",
    "        return 0\n",
    "    \n",
    "    \n",
    "   \n",
    "k= next_in_line([7, 6, 3, 23, 17], 19)\n",
    "if k!=0:\n",
    "    print(\"The updated list is\",k)\n",
    "else:\n",
    "    print(\"No list has been selected\") \n",
    "    \n",
    "\n",
    "k=next_in_line([1, 11, 20, 42 ], 10)\n",
    "if k!=0:\n",
    "    print(\"The updated list is\",k)\n",
    "else:\n",
    "    print(\"No list has been selected\") \n",
    "k=next_in_line([],6)   \n",
    "if k!=0:\n",
    "    print(\"The updated list is\",k)\n",
    "else:\n",
    "    print(\"No list has been selected\") \n"
   ]
  },
  {
   "cell_type": "markdown",
   "id": "2f273654",
   "metadata": {},
   "source": [
    "Question2\n",
    "Create the function that takes a list of dictionaries and returns the sum of people's budgets.\n",
    "Examples\n",
    "get_budgets([\n",
    "  { \"name\": \"John\", \"age\": 21, \"budget\": 23000 },\n",
    "  { \"name\": \"Steve\",  \"age\": 32, \"budget\": 40000 },\n",
    "  { \"name\": \"Martin\",  \"age\": 16, \"budget\": 2700 }\n",
    "]) ➞ 65700\n",
    "\n",
    "get_budgets([\n",
    "  { \"name\": \"John\",  \"age\": 21, \"budget\": 29000 },\n",
    "  { \"name\": \"Steve\",  \"age\": 32, \"budget\": 32000 },\n",
    "  { \"name\": \"Martin\",  \"age\": 16, \"budget\": 1600 }\n",
    "]) ➞ 62600\n",
    "\n"
   ]
  },
  {
   "cell_type": "code",
   "execution_count": 16,
   "id": "83d52a28",
   "metadata": {},
   "outputs": [
    {
     "data": {
      "text/plain": [
       "65700"
      ]
     },
     "execution_count": 16,
     "metadata": {},
     "output_type": "execute_result"
    }
   ],
   "source": [
    "def get_budgets(dict):\n",
    "    sum=0\n",
    "    for i in dict:\n",
    "        for key,val in i.items():\n",
    "            if key=='budget':\n",
    "                sum+=val\n",
    "    return sum        \n",
    "\n",
    "\n",
    "get_budgets([ { \"name\": \"John\", \"age\": 21, \"budget\": 23000 }, \n",
    "             { \"name\": \"Steve\", \"age\": 32, \"budget\": 40000 }, \n",
    "             { \"name\": \"Martin\", \"age\": 16, \"budget\": 2700 } ])\n"
   ]
  },
  {
   "cell_type": "code",
   "execution_count": 17,
   "id": "28ae8649",
   "metadata": {},
   "outputs": [
    {
     "data": {
      "text/plain": [
       "62600"
      ]
     },
     "execution_count": 17,
     "metadata": {},
     "output_type": "execute_result"
    }
   ],
   "source": [
    "get_budgets([ { \"name\": \"John\", \"age\": 21, \"budget\": 29000 }, { \"name\": \"Steve\", \"age\": 32, \"budget\": 32000 }, { \"name\": \"Martin\", \"age\": 16, \"budget\": 1600 } ])"
   ]
  },
  {
   "cell_type": "markdown",
   "id": "df4c51f9",
   "metadata": {},
   "source": [
    "Question3\n",
    "Create a function that takes a string and returns a string with its letters in alphabetical order.\n",
    "Examples\n",
    "alphabet_soup(\"hello\") ➞ \"ehllo\"\n",
    "\n",
    "alphabet_soup(\"edabit\") ➞ \"abdeit\"\n",
    "\n",
    "alphabet_soup(\"hacker\") ➞ \"acehkr\"\n",
    "\n",
    "alphabet_soup(\"geek\") ➞ \"eegk\"\n",
    "\n",
    "alphabet_soup(\"javascript\") ➞ \"aacijprstv\"\n"
   ]
  },
  {
   "cell_type": "code",
   "execution_count": 21,
   "id": "79a4ba10",
   "metadata": {},
   "outputs": [
    {
     "name": "stdout",
     "output_type": "stream",
     "text": [
      "abdeit\n",
      "acehkr\n",
      "eegk\n"
     ]
    }
   ],
   "source": [
    "def alphabet_soup(s):\n",
    "    return ''.join(sorted(s))\n",
    "    \n",
    "    \n",
    "print(alphabet_soup(\"edabit\"))  \n",
    "print(alphabet_soup(\"hacker\"))\n",
    "\n",
    "print(alphabet_soup(\"geek\"))"
   ]
  },
  {
   "cell_type": "markdown",
   "id": "dc29f5cb",
   "metadata": {},
   "source": [
    "Question4\n",
    "Suppose that you invest $10,000 for 10 years at an interest rate of 6% compounded monthly. What will be the value of your investment at the end of the 10 year period?\n",
    "Create a function that accepts the principal p, the term in years t, the interest rate r, and the number of compounding periods per year n. The function returns the value at the end of term rounded to the nearest cent.\n",
    "For the example above:\n",
    "compound_interest(100, 1, 0.05, 1) ➞ 105.0\n",
    "\n",
    "compound_interest(3500, 15, 0.1, 4) ➞ 15399.26\n",
    "\n",
    "compound_interest(100000, 20, 0.15, 365) ➞ 2007316.26\n",
    "\n",
    "\n",
    "\n",
    "\n",
    "formula is :\n",
    "Future Val = Principle Val(1 + r/m)mt\n"
   ]
  },
  {
   "cell_type": "code",
   "execution_count": 23,
   "id": "4c7a106a",
   "metadata": {},
   "outputs": [
    {
     "name": "stdout",
     "output_type": "stream",
     "text": [
      "18193.9673403229\n",
      "105.0\n"
     ]
    }
   ],
   "source": [
    "def compound_interest(amt, yr, interest,month):\n",
    "    future_val=amt*(1+(interest/month))**(yr*month)\n",
    "    return future_val\n",
    "\n",
    "print(compound_interest(10000, 10, 0.06, 12))\n",
    "print(compound_interest(100, 1, 0.05, 1))"
   ]
  },
  {
   "cell_type": "markdown",
   "id": "a2f5ca99",
   "metadata": {},
   "source": [
    "Question5\n",
    "Write a function that takes a list of elements and returns only the integers.\n",
    "Examples\n",
    "return_only_integer([9, 2, \"space\", \"car\", \"lion\", 16]) ➞ [9, 2, 16]\n",
    "\n",
    "return_only_integer([\"hello\", 81, \"basketball\", 123, \"fox\"]) ➞ [81, 123]\n"
   ]
  },
  {
   "cell_type": "code",
   "execution_count": 31,
   "id": "850b0928",
   "metadata": {},
   "outputs": [
    {
     "name": "stdout",
     "output_type": "stream",
     "text": [
      "The original list is: [9, 2, 'space', 'car', 'lion', 16]\n",
      "the updated list with only interger value is  [9, 2, 16]\n",
      "The original list is: ['hello', 81, 'basketball', 123, 'fox']\n",
      "The updated list is [81, 123]\n"
     ]
    }
   ],
   "source": [
    "def return_only_integer(lst):\n",
    "    new_list=[]\n",
    "    for i in lst:\n",
    "        if type(i)==int:\n",
    "            new_list.append(i)\n",
    "    return new_list\n",
    "\n",
    "k=[9, 2, \"space\", \"car\", \"lion\", 16]\n",
    "print(\"The original list is:\",k)\n",
    "print(\"the updated list with only interger value is \", return_only_integer(k))\n",
    "k=[\"hello\", 81, \"basketball\", 123, \"fox\"]\n",
    "print (\"The original list is:\",k)\n",
    "print(\"The updated list is\",return_only_integer(k))"
   ]
  },
  {
   "cell_type": "code",
   "execution_count": null,
   "id": "a5b28edc",
   "metadata": {},
   "outputs": [],
   "source": []
  }
 ],
 "metadata": {
  "kernelspec": {
   "display_name": "Python 3",
   "language": "python",
   "name": "python3"
  },
  "language_info": {
   "codemirror_mode": {
    "name": "ipython",
    "version": 3
   },
   "file_extension": ".py",
   "mimetype": "text/x-python",
   "name": "python",
   "nbconvert_exporter": "python",
   "pygments_lexer": "ipython3",
   "version": "3.8.8"
  }
 },
 "nbformat": 4,
 "nbformat_minor": 5
}
